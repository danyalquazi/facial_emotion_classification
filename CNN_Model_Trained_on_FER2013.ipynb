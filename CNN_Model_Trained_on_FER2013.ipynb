{
 "cells": [
  {
   "cell_type": "markdown",
   "id": "f166464a",
   "metadata": {},
   "source": [
    "## Predicting the Expressions using CNN Model"
   ]
  },
  {
   "cell_type": "markdown",
   "id": "670d3a1b",
   "metadata": {},
   "source": [
    "## Part 1: CNN Trained on FER-2013 Image dataset"
   ]
  },
  {
   "cell_type": "code",
   "execution_count": 1,
   "id": "50f1b0ac",
   "metadata": {
    "collapsed": true
   },
   "outputs": [],
   "source": [
    "import cv2\n",
    "from deepface import DeepFace\n",
    "import numpy as np  "
   ]
  },
  {
   "cell_type": "code",
   "execution_count": 23,
   "id": "ce8fc585",
   "metadata": {
    "collapsed": true
   },
   "outputs": [],
   "source": [
    "face_cascade = cv2.CascadeClassifier('C:\\\\Users\\\\Khizer Ahmed\\\\AppData\\\\Local\\\\Programs\\\\Python\\\\Python310\\\\Lib\\\\site-packages\\\\cv2\\\\data\\\\haarcascade_frontalface_default.xml')"
   ]
  },
  {
   "cell_type": "code",
   "execution_count": 24,
   "id": "9cd50567",
   "metadata": {
    "collapsed": true
   },
   "outputs": [],
   "source": [
    "img = cv2.imread('labelme_sewqvmzqmdurewp.jpg')"
   ]
  },
  {
   "cell_type": "code",
   "execution_count": 25,
   "id": "1cf5fbff",
   "metadata": {
    "collapsed": true
   },
   "outputs": [],
   "source": [
    "gray = cv2.cvtColor(img, cv2.COLOR_BGR2GRAY)"
   ]
  },
  {
   "cell_type": "code",
   "execution_count": 26,
   "id": "606904b8",
   "metadata": {
    "collapsed": true
   },
   "outputs": [],
   "source": [
    "faces = face_cascade.detectMultiScale(gray, 1.1, 4)"
   ]
  },
  {
   "cell_type": "code",
   "execution_count": 27,
   "id": "e6608782",
   "metadata": {
    "collapsed": true
   },
   "outputs": [],
   "source": [
    "for (x, y, w, h) in faces:\n",
    "    cv2.rectangle(img, (x, y), (x+w, y+h), (255, 0, 0), 2)"
   ]
  },
  {
   "cell_type": "code",
   "execution_count": 28,
   "id": "4c534da5",
   "metadata": {},
   "outputs": [
    {
     "data": {
      "text/plain": [
       "-1"
      ]
     },
     "execution_count": 28,
     "metadata": {},
     "output_type": "execute_result"
    }
   ],
   "source": [
    "cv2.imshow('img', img)\n",
    "cv2.waitKey()"
   ]
  },
  {
   "cell_type": "code",
   "execution_count": 2,
   "id": "10049767",
   "metadata": {},
   "outputs": [],
   "source": [
    "import cv2\n",
    "import numpy as np\n",
    "import seaborn as sns\n",
    "import matplotlib.pyplot as plt\n",
    "import utils\n",
    "import os \n",
    "from tensorflow.keras.preprocessing.image import ImageDataGenerator\n",
    "from tensorflow.keras.layers import Dense, Input, Dropout,Flatten, Conv2D\n",
    "from tensorflow.keras.layers import BatchNormalization, Activation, MaxPooling2D\n",
    "from tensorflow.keras.models import Model, Sequential\n",
    "from tensorflow.keras.optimizers import Adam\n",
    "from tensorflow.keras.callbacks import ModelCheckpoint, ReduceLROnPlateau , EarlyStopping\n",
    "from tensorflow.keras.utils import plot_model\n",
    "from IPython.display import SVG, Image\n",
    "from livelossplot.inputs.tf_keras import PlotLossesCallback\n",
    "import tensorflow as tf\n",
    "# print(\"Tensorflow version:\", tf.__version__)\n",
    "\n",
    "import pandas as pd\n",
    "import seaborn as sns\n",
    "from sklearn import metrics"
   ]
  },
  {
   "cell_type": "code",
   "execution_count": 3,
   "id": "fcc89796",
   "metadata": {},
   "outputs": [
    {
     "name": "stdout",
     "output_type": "stream",
     "text": [
      "3995 angry images\n",
      "436 disgust images\n",
      "4097 fear images\n",
      "7215 happy images\n",
      "4965 neutral images\n",
      "4830 sad images\n",
      "3171 surprise images\n"
     ]
    }
   ],
   "source": [
    "for expression in os.listdir(r\"D:\\MCM Practicum\\FacialExpressionDataset\\train\\train\"):`\n",
    "    print(str(len(os.listdir(r\"D:\\MCM Practicum\\FacialExpressionDataset\\train\\train\\\\\" + expression))) + \" \" + expression + \" images\")"
   ]
  },
  {
   "cell_type": "code",
   "execution_count": 65,
   "id": "97b90436",
   "metadata": {},
   "outputs": [
    {
     "name": "stdout",
     "output_type": "stream",
     "text": [
      "958 angry images\n",
      "111 disgust images\n",
      "1024 fear images\n",
      "1774 happy images\n",
      "1233 neutral images\n",
      "1247 sad images\n",
      "831 surprise images\n"
     ]
    }
   ],
   "source": [
    "for expression in os.listdir(r\"D:\\MCM Practicum\\FacialExpressionDataset\\test\\test\"):\n",
    "\n",
    "    print(str(len(os.listdir(r\"D:\\MCM Practicum\\FacialExpressionDataset\\test\\test\\\\\" + expression))) + \" \" + expression + \" images\")"
   ]
  },
  {
   "cell_type": "code",
   "execution_count": 27,
   "id": "6c210e87",
   "metadata": {},
   "outputs": [
    {
     "name": "stdout",
     "output_type": "stream",
     "text": [
      "Found 28709 images belonging to 7 classes.\n",
      "Found 7178 images belonging to 7 classes.\n"
     ]
    }
   ],
   "source": [
    "img_size = 48\n",
    "batch_size = 64\n",
    "\n",
    "datagen_train = ImageDataGenerator(horizontal_flip = True)\n",
    "\n",
    "train_generator = datagen_train.flow_from_directory(r\"D:\\MCM Practicum\\FacialExpressionDataset\\train\\train\",\n",
    "                                                    target_size=(img_size,img_size),\n",
    "                                                    color_mode=\"grayscale\",\n",
    "                                                    batch_size=batch_size,\n",
    "                                                    class_mode='categorical',\n",
    "                                                    shuffle=True)\n",
    "\n",
    "\n",
    "datagen_validation = ImageDataGenerator(horizontal_flip = True)\n",
    "validation_generator = datagen_validation.flow_from_directory(r\"D:\\MCM Practicum\\FacialExpressionDataset\\test\\test\",\n",
    "                                                    target_size=(img_size,img_size),\n",
    "                                                    color_mode=\"grayscale\",\n",
    "                                                    batch_size=batch_size,\n",
    "                                                    class_mode='categorical',\n",
    "                                                    shuffle=False)"
   ]
  },
  {
   "cell_type": "code",
   "execution_count": 54,
   "id": "0f53c929",
   "metadata": {},
   "outputs": [
    {
     "name": "stdout",
     "output_type": "stream",
     "text": [
      "Model: \"sequential_10\"\n",
      "_________________________________________________________________\n",
      " Layer (type)                Output Shape              Param #   \n",
      "=================================================================\n",
      " conv2d_37 (Conv2D)          (None, 48, 48, 64)        640       \n",
      "                                                                 \n",
      " batch_normalization_64 (Bat  (None, 48, 48, 64)       256       \n",
      " chNormalization)                                                \n",
      "                                                                 \n",
      " activation_46 (Activation)  (None, 48, 48, 64)        0         \n",
      "                                                                 \n",
      " max_pooling2d_34 (MaxPoolin  (None, 24, 24, 64)       0         \n",
      " g2D)                                                            \n",
      "                                                                 \n",
      " dropout_48 (Dropout)        (None, 24, 24, 64)        0         \n",
      "                                                                 \n",
      " conv2d_38 (Conv2D)          (None, 24, 24, 128)       204928    \n",
      "                                                                 \n",
      " batch_normalization_65 (Bat  (None, 24, 24, 128)      512       \n",
      " chNormalization)                                                \n",
      "                                                                 \n",
      " activation_47 (Activation)  (None, 24, 24, 128)       0         \n",
      "                                                                 \n",
      " max_pooling2d_35 (MaxPoolin  (None, 12, 12, 128)      0         \n",
      " g2D)                                                            \n",
      "                                                                 \n",
      " dropout_49 (Dropout)        (None, 12, 12, 128)       0         \n",
      "                                                                 \n",
      " conv2d_39 (Conv2D)          (None, 12, 12, 512)       590336    \n",
      "                                                                 \n",
      " batch_normalization_66 (Bat  (None, 12, 12, 512)      2048      \n",
      " chNormalization)                                                \n",
      "                                                                 \n",
      " activation_48 (Activation)  (None, 12, 12, 512)       0         \n",
      "                                                                 \n",
      " max_pooling2d_36 (MaxPoolin  (None, 6, 6, 512)        0         \n",
      " g2D)                                                            \n",
      "                                                                 \n",
      " dropout_50 (Dropout)        (None, 6, 6, 512)         0         \n",
      "                                                                 \n",
      " conv2d_40 (Conv2D)          (None, 6, 6, 512)         2359808   \n",
      "                                                                 \n",
      " batch_normalization_67 (Bat  (None, 6, 6, 512)        2048      \n",
      " chNormalization)                                                \n",
      "                                                                 \n",
      " activation_49 (Activation)  (None, 6, 6, 512)         0         \n",
      "                                                                 \n",
      " max_pooling2d_37 (MaxPoolin  (None, 3, 3, 512)        0         \n",
      " g2D)                                                            \n",
      "                                                                 \n",
      " dropout_51 (Dropout)        (None, 3, 3, 512)         0         \n",
      "                                                                 \n",
      " flatten_9 (Flatten)         (None, 4608)              0         \n",
      "                                                                 \n",
      " dense_23 (Dense)            (None, 256)               1179904   \n",
      "                                                                 \n",
      " batch_normalization_68 (Bat  (None, 256)              1024      \n",
      " chNormalization)                                                \n",
      "                                                                 \n",
      " activation_50 (Activation)  (None, 256)               0         \n",
      "                                                                 \n",
      " dropout_52 (Dropout)        (None, 256)               0         \n",
      "                                                                 \n",
      " dense_24 (Dense)            (None, 512)               131584    \n",
      "                                                                 \n",
      " batch_normalization_69 (Bat  (None, 512)              2048      \n",
      " chNormalization)                                                \n",
      "                                                                 \n",
      " activation_51 (Activation)  (None, 512)               0         \n",
      "                                                                 \n",
      " dropout_53 (Dropout)        (None, 512)               0         \n",
      "                                                                 \n",
      " dense_25 (Dense)            (None, 7)                 3591      \n",
      "                                                                 \n",
      "=================================================================\n",
      "Total params: 4,478,727\n",
      "Trainable params: 4,474,759\n",
      "Non-trainable params: 3,968\n",
      "_________________________________________________________________\n"
     ]
    }
   ],
   "source": [
    "#Model Architecture \n",
    "\n",
    "\n",
    "# Initialising the CNN\n",
    "model = Sequential()\n",
    "# 1 - Convolution\n",
    "model.add(Conv2D(64,(3,3), padding='same', input_shape=(48, 48,1)))\n",
    "model.add(BatchNormalization())\n",
    "model.add(Activation('relu'))\n",
    "model.add(MaxPooling2D(pool_size=(2, 2)))\n",
    "model.add(Dropout(0.25))\n",
    "\n",
    "# 2nd Convolution layer\n",
    "model.add(Conv2D(128,(5,5), padding='same'))\n",
    "model.add(BatchNormalization())\n",
    "model.add(Activation('relu'))\n",
    "model.add(MaxPooling2D(pool_size=(2, 2)))\n",
    "model.add(Dropout(0.25))\n",
    "\n",
    "# 3rd Convolution layer\n",
    "model.add(Conv2D(512,(3,3), padding='same'))\n",
    "model.add(BatchNormalization())\n",
    "model.add(Activation('relu'))\n",
    "model.add(MaxPooling2D(pool_size=(2, 2)))\n",
    "model.add(Dropout(0.25))\n",
    "# 4th Convolution layer\n",
    "model.add(Conv2D(512,(3,3), padding='same'))\n",
    "model.add(BatchNormalization())\n",
    "model.add(Activation('relu'))\n",
    "model.add(MaxPooling2D(pool_size=(2, 2)))\n",
    "model.add(Dropout(0.25))\n",
    "# Flattening\n",
    "model.add(Flatten())\n",
    "\n",
    "# Fully connected layer 1st layer\n",
    "model.add(Dense(256))\n",
    "model.add(BatchNormalization())\n",
    "model.add(Activation('relu'))\n",
    "model.add(Dropout(0.25))\n",
    "\n",
    "# Fully connected layer 2nd layer\n",
    "model.add(Dense(512))\n",
    "model.add(BatchNormalization())\n",
    "model.add(Activation('relu'))\n",
    "model.add(Dropout(0.25))\n",
    "model.add(Dense(7, activation='softmax'))\n",
    "opt = Adam(lr=0.0005)\n",
    "model.compile(optimizer=opt, loss='categorical_crossentropy', metrics=['accuracy'])\n",
    "model.summary()\n"
   ]
  },
  {
   "cell_type": "code",
   "execution_count": 38,
   "id": "fb6ab6a5",
   "metadata": {},
   "outputs": [
    {
     "data": {
      "image/png": "[encoded data removed]",
      "text/plain": [
       "<IPython.core.display.Image object>"
      ]
     },
     "execution_count": 38,
     "metadata": {
      "image/png": {
       "height": 200,
       "width": 400
      }
     },
     "output_type": "execute_result"
    }
   ],
   "source": [
    "plot_model(model, to_file='model.png', show_shapes=True, show_layer_names=True)\n",
    "Image('model.png',width=400, height=200)"
   ]
  },
  {
   "cell_type": "code",
   "execution_count": 43,
   "id": "fc33a509",
   "metadata": {},
   "outputs": [],
   "source": [
    "opt = Adam(lr=0.001)\n",
    "model.compile(optimizer=opt, loss='categorical_crossentropy', metrics=['accuracy'])"
   ]
  },
  {
   "cell_type": "code",
   "execution_count": 44,
   "id": "003d49a3",
   "metadata": {
    "scrolled": false
   },
   "outputs": [],
   "source": [
    "#Model Training and Building \n",
    "\n",
    "# %%time\n",
    "epochs = 50\n",
    "steps_per_epoch = train_generator.n//train_generator.batch_size\n",
    "validation_steps = validation_generator.n//validation_generator.batch_size\n",
    "# reduce_lr = ReduceLROnPlateau(monitor='val_loss', factor=0.1,\n",
    "#                               patience=2, min_lr=0.00001, mode='auto')\n",
    "\n",
    "early=EarlyStopping(monitor='val_loss',patience=10,restore_best_weights=True,verbose=1)\n",
    "checkpoint = ModelCheckpoint(\"model_weights.h5\", monitor='val_accuracy',\n",
    "                             save_weights_only=True, mode='max', verbose=1)\n",
    "callbacks = [PlotLossesCallback(), checkpoint, early]\n",
    "history = model.fit(\n",
    "    x=train_generator,\n",
    "    steps_per_epoch=steps_per_epoch,\n",
    "    epochs=epochs,\n",
    "    validation_data = validation_generator,\n",
    "    validation_steps = validation_steps,\n",
    "    callbacks=callbacks\n",
    ")"
   ]
  },
  {
   "cell_type": "code",
   "execution_count": 46,
   "id": "ee92eaf6",
   "metadata": {},
   "outputs": [],
   "source": [
    "# # Don't run this ## To save the model\n",
    "\n",
    "# model_json = model.to_json()\n",
    "# model.save_weights('model_weights.h5')\n",
    "# with open(\"model.json\", \"w\") as json_file:\n",
    "#     json_file.write(model_json)"
   ]
  },
  {
   "cell_type": "code",
   "execution_count": 45,
   "id": "0faeeba4",
   "metadata": {},
   "outputs": [],
   "source": [
    "#For loading the model run this. \n",
    "\n",
    "from tensorflow.keras.models import model_from_json\n",
    "\n",
    "class FacialExpressionModel(object):    \n",
    "    EMOTIONS_LIST = [\"Angry\", \"Disgust\",\n",
    "                    \"Fear\", \"Happy\",\n",
    "                    \"Neutral\", \"Sad\",\n",
    "                    \"Surprise\"]    \n",
    "    def __init__(self, model_json_file, model_weights_file):\n",
    "        # load model from JSON file\n",
    "        with open(model_json_file, \"r\") as json_file:\n",
    "            loaded_model_json = json_file.read()\n",
    "            self.loaded_model = model_from_json(loaded_model_json)   \n",
    "            \n",
    "        # load weights into the new model\n",
    "        self.loaded_model.load_weights(model_weights_file)\n",
    "        self.loaded_model.make_predict_function()    \n",
    "        \n",
    "    def predict_emotion(self, img):\n",
    "        self.preds = self.loaded_model.predict(img)\n",
    "        return FacialExpressionModel.EMOTIONS_LIST[np.argmax(self.preds)]"
   ]
  },
  {
   "cell_type": "code",
   "execution_count": 46,
   "id": "2ada6472",
   "metadata": {},
   "outputs": [],
   "source": [
    "## Defining OpenCV harcascade-classifier\n",
    "\n",
    "facec = cv2.CascadeClassifier(R'C:\\Users\\Khizer Ahmed\\AppData\\Local\\Programs\\Python\\Python310\\Lib\\site-packages\\cv2\\data\\haarcascade_frontalface_default.xml')\n",
    "model = FacialExpressionModel(\"CNN_model_final\\model.json\", \"CNN_model_final\\model_weights.h5\")\n",
    "font = cv2.FONT_HERSHEY_SIMPLEX"
   ]
  },
  {
   "cell_type": "code",
   "execution_count": 6,
   "id": "45885113",
   "metadata": {},
   "outputs": [],
   "source": [
    "## Creating a vedios LABELLED on CNN dataset.\n",
    "\n",
    "data = pd.DataFrame()"
   ]
  },
  {
   "cell_type": "code",
   "execution_count": 7,
   "id": "78471835",
   "metadata": {},
   "outputs": [],
   "source": [
    "data['Frame_No.'] = ''\n",
    "data['Time_Stamp'] = ''\n",
    "data['Emotion_Predicted'] = ''"
   ]
  },
  {
   "cell_type": "code",
   "execution_count": 8,
   "id": "1886c15b",
   "metadata": {},
   "outputs": [],
   "source": [
    "## Checking the emotions for one of the video Video 41.mp4\n",
    "\n",
    "# # folder = 'Vedios'\n",
    "# for filename in os.listdir(folder):\n",
    "# #     print(filename)\n",
    "facec = cv2.CascadeClassifier(R'C:\\Users\\Khizer Ahmed\\AppData\\Local\\Programs\\Python\\Python310\\Lib\\site-packages\\cv2\\data\\haarcascade_frontalface_default.xml')\n",
    "font = cv2.FONT_HERSHEY_SIMPLEX\n",
    "cap = cv2.VideoCapture(\"Video 1.mp4\")\n",
    "frame_width = int(cap.get(3))\n",
    "frame_height = int(cap.get(4))\n",
    "frame_size = (frame_width,frame_height)\n",
    "fps = 20\n",
    "frame_no =1\n",
    "\n",
    "output = cv2.VideoWriter(f'output_comp.mp4', cv2.VideoWriter_fourcc(*'XVID'), 20, frame_size)\n",
    "while(cap.isOpened()):\n",
    "    # vid_capture.read() methods returns a tuple, first element is a bool\n",
    "    # and the second is frame\n",
    "    \n",
    "    \n",
    "    ret, frame = cap.read()\n",
    "    if ret == True:\n",
    "        gray_fr = cv2.cvtColor(frame, cv2.COLOR_BGR2GRAY)\n",
    "        faces = facec.detectMultiScale(gray_fr, 1.3, 5)        \n",
    "        for (x, y, w, h) in faces:\n",
    "            fc = gray_fr[y:y+h, x:x+w]            \n",
    "            roi = cv2.resize(fc, (48, 48))\n",
    "            pred = model.predict_emotion(roi[np.newaxis, :, :, np.newaxis])\n",
    "            cv2.putText(frame, pred, (x, y), font, 1, (255, 0, 0), 2)\n",
    "            cv2.rectangle(frame,(x,y),(x+w,y+h),(255,0,0),4) \n",
    "            \n",
    "\n",
    "    # Write the frame to the output files\n",
    "        output.write(frame)\n",
    "        \n",
    "    #Writing the frame and its identified emotion\n",
    "        data = data.append({'Frame_No.':frame_no,'Time_Stamp':cap.get(cv2.CAP_PROP_POS_MSEC),'Emotion_Predicted':pred},ignore_index= True)  \n",
    "        \n",
    "    else:\n",
    "#             print(\"Stream disconnected\")\n",
    "        break\n",
    "    frame_no += 1\n",
    "data.to_csv('Vedios 1.csv')\n",
    "\n",
    "cap.release()\n",
    "output.release()"
   ]
  },
  {
   "cell_type": "code",
   "execution_count": 47,
   "id": "61816de5",
   "metadata": {
    "scrolled": true
   },
   "outputs": [
    {
     "name": "stdout",
     "output_type": "stream",
     "text": [
      "Video 0.mp4 Completed\n",
      "Video 1.mp4 Completed\n",
      "Video 100.mp4 Completed\n",
      "Video 101.mp4 Completed\n",
      "Video 102.mp4 Completed\n",
      "Video 103.mp4 Completed\n",
      "Video 104.mp4 Completed\n",
      "Video 105.mp4 Completed\n",
      "Video 11.mp4 Completed\n",
      "Video 12.mp4 Completed\n",
      "Video 13.mp4 Completed\n",
      "Video 14.mp4 Completed\n",
      "Video 15.mp4 Completed\n",
      "Video 16.mp4 Completed\n",
      "Video 17.mp4 Completed\n",
      "Video 18.mp4 Completed\n",
      "Video 19.mp4 Completed\n",
      "Video 2.mp4 Completed\n",
      "Video 20.mp4 Completed\n",
      "Video 21.mp4 Completed\n",
      "Video 22.mp4 Completed\n",
      "Video 23.mp4 Completed\n",
      "Video 24.mp4 Completed\n",
      "Video 25.mp4 Completed\n",
      "Video 26.mp4 Completed\n",
      "Video 27.mp4 Completed\n",
      "Video 28.mp4 Completed\n",
      "Video 29.mp4 Completed\n",
      "Video 3.mp4 Completed\n",
      "Video 30.mp4 Completed\n",
      "Video 31.mp4 Completed\n",
      "Video 32.mp4 Completed\n",
      "Video 33.mp4 Completed\n",
      "Video 34.mp4 Completed\n",
      "Video 35.mp4 Completed\n",
      "Video 36.mp4 Completed\n",
      "Video 37.mp4 Completed\n",
      "Video 38.mp4 Completed\n",
      "Video 39.mp4 Completed\n",
      "Video 4.mp4 Completed\n",
      "Video 40.mp4 Completed\n",
      "Video 41.mp4 Completed\n",
      "Video 42.mp4 Completed\n",
      "Video 43.mp4 Completed\n",
      "Video 44.mp4 Completed\n",
      "Video 45.mp4 Completed\n",
      "Video 46.mp4 Completed\n",
      "Video 47.mp4 Completed\n",
      "Video 48.mp4 Completed\n",
      "Video 49.mp4 Completed\n",
      "Video 5.mp4 Completed\n",
      "Video 50.mp4 Completed\n",
      "Video 51.mp4 Completed\n",
      "Video 52.mp4 Completed\n",
      "Video 53.mp4 Completed\n",
      "Video 54.mp4 Completed\n",
      "Video 55.mp4 Completed\n",
      "Video 56.mp4 Completed\n",
      "Video 57.mp4 Completed\n",
      "Video 58.mp4 Completed\n",
      "Video 59.mp4 Completed\n",
      "Video 6.mp4 Completed\n",
      "Video 60.mp4 Completed\n",
      "Video 61.mp4 Completed\n",
      "Video 62.mp4 Completed\n",
      "Video 63.mp4 Completed\n",
      "Video 64.mp4 Completed\n",
      "Video 65.mp4 Completed\n",
      "Video 66.mp4 Completed\n",
      "Video 67.mp4 Completed\n",
      "Video 68.mp4 Completed\n",
      "Video 69.mp4 Completed\n",
      "Video 7.mp4 Completed\n",
      "Video 70.mp4 Completed\n",
      "Video 71.mp4 Completed\n",
      "Video 72.mp4 Completed\n",
      "Video 73.mp4 Completed\n",
      "Video 74.mp4 Completed\n",
      "Video 75.mp4 Completed\n",
      "Video 76.mp4 Completed\n",
      "Video 77.mp4 Completed\n",
      "Video 78.mp4 Completed\n",
      "Video 79.mp4 Completed\n",
      "Video 8.mp4 Completed\n",
      "Video 80.mp4 Completed\n",
      "Video 81.mp4 Completed\n",
      "Video 82.mp4 Completed\n",
      "Video 83.mp4 Completed\n",
      "Video 84.mp4 Completed\n",
      "Video 85.mp4 Completed\n",
      "Video 86.mp4 Completed\n",
      "Video 87.mp4 Completed\n",
      "Video 88.mp4 Completed\n",
      "Video 89.mp4 Completed\n",
      "Video 9.mp4 Completed\n",
      "Video 90.mp4 Completed\n",
      "Video 91.mp4 Completed\n",
      "Video 92.mp4 Completed\n",
      "Video 93.mp4 Completed\n",
      "Video 94.mp4 Completed\n",
      "Video 95.mp4 Completed\n",
      "Video 96.mp4 Completed\n",
      "Video 97.mp4 Completed\n",
      "Video 98.mp4 Completed\n",
      "Video 99.mp4 Completed\n"
     ]
    }
   ],
   "source": [
    "#Applying the model to all the vedios, for emotion recognition.\n",
    "\n",
    "facec = cv2.CascadeClassifier(R'C:\\Users\\Khizer Ahmed\\AppData\\Local\\Programs\\Python\\Python310\\Lib\\site-packages\\cv2\\data\\haarcascade_frontalface_default.xml')\n",
    "model = FacialExpressionModel(\"model.json\", \"model_weights.h5\")\n",
    "font = cv2.FONT_HERSHEY_SIMPLEX\n",
    "\n",
    "folder = 'Vedios'\n",
    "for filename in os.listdir(folder):\n",
    "#     print(filename)\n",
    "    data = pd.DataFrame()\n",
    "    data['Frame_No.'] = ''\n",
    "    data['Time_Stamp'] = ''\n",
    "    data['Emotion_Predicted'] = ''\n",
    "    cap = cv2.VideoCapture(f\"{folder}/{filename}\")\n",
    "    frame_width = int(cap.get(3))\n",
    "    frame_height = int(cap.get(4))\n",
    "    frame_size = (frame_width,frame_height)\n",
    "    fps = 20\n",
    "    frame_no =1\n",
    "\n",
    "    output = cv2.VideoWriter(f'CNN_EmotionRecognised/{filename}', cv2.VideoWriter_fourcc(*'XVID'), 20, frame_size)\n",
    "    while(cap.isOpened()):\n",
    "    # vid_capture.read() methods returns a tuple, first element is a bool\n",
    "    # and the second is frame\n",
    "        ret, frame = cap.read()\n",
    "        if ret == True:\n",
    "            gray_fr = cv2.cvtColor(frame, cv2.COLOR_BGR2GRAY)\n",
    "            faces = facec.detectMultiScale(gray_fr, 1.3, 5)        \n",
    "            for (x, y, w, h) in faces:\n",
    "                fc = gray_fr[y:y+h, x:x+w]            \n",
    "                roi = cv2.resize(fc, (48, 48))\n",
    "                pred = model.predict_emotion(roi[np.newaxis, :, :, np.newaxis])\n",
    "                cv2.putText(frame, pred, (x, y), font, 1, (255, 0, 0), 2)\n",
    "                cv2.rectangle(frame,(x,y),(x+w,y+h),(255,0,0),4) \n",
    "    # Write the frame to the output files\n",
    "            output.write(frame)\n",
    "            data = data.append({'Frame_No.':frame_no,'Time_Stamp':cap.get(cv2.CAP_PROP_POS_MSEC),'Emotion_Predicted':pred},ignore_index= True)  \n",
    "\n",
    "        else:\n",
    "            print(f\"{filename} Completed\")\n",
    "            break\n",
    "        \n",
    "        frame_no += 1\n",
    "\n",
    "    \n",
    "    cap.release()\n",
    "    output.release()\n",
    "    data.to_csv(f'CNN_EmotionRecognised/{filename}.csv')\n"
   ]
  },
  {
   "cell_type": "code",
   "execution_count": 13,
   "id": "7d0cbbad",
   "metadata": {
    "collapsed": true
   },
   "outputs": [],
   "source": [
    "folder = 'CNN_EmotionRecognised'\n",
    "\n",
    "final_data = pd.DataFrame()\n",
    "final_data['Video_Name'] = ''\n",
    "final_data['Dominating_Emotion'] = ''\n",
    "\n",
    "\n",
    "for filename in os.listdir(folder):\n",
    "    split_text = os.path.splitext(f'{folder}/{filename}')\n",
    "    if split_text[1] == '.csv':\n",
    "#         print(split_text)\n",
    "        df =  pd.read_csv(f'{folder}/{filename}')\n",
    "        final_data =  final_data.append({'Video_Name':filename,'Dominating_Emotion':df['Emotion_Predicted'].mode()[0]},ignore_index=True)\n",
    "        "
   ]
  },
  {
   "cell_type": "code",
   "execution_count": 17,
   "id": "eb77aafc",
   "metadata": {},
   "outputs": [
    {
     "data": {
      "text/plain": [
       "'101'"
      ]
     },
     "execution_count": 17,
     "metadata": {},
     "output_type": "execute_result"
    }
   ],
   "source": [
    "final_data['Video_Name'][3][6:]"
   ]
  },
  {
   "cell_type": "code",
   "execution_count": 18,
   "id": "2f4f7b2b",
   "metadata": {
    "collapsed": true
   },
   "outputs": [],
   "source": [
    "for i in range(0,len(final_data)):\n",
    "    final_data['Video_Name'][i] = final_data['Video_Name'][i][6:]"
   ]
  },
  {
   "cell_type": "code",
   "execution_count": 19,
   "id": "863a8ff6",
   "metadata": {
    "collapsed": true
   },
   "outputs": [],
   "source": [
    "final_data.to_csv('CNN_Results.csv')"
   ]
  },
  {
   "cell_type": "markdown",
   "id": "5ae63479",
   "metadata": {},
   "source": [
    "## Evaluating the CNN model"
   ]
  },
  {
   "cell_type": "code",
   "execution_count": 49,
   "id": "55b5ef0c",
   "metadata": {},
   "outputs": [],
   "source": [
    "## Reading the ground-truth dataset\n",
    "\n",
    "ground_truth_emotions = pd.read_csv('GroundTruthEmotions.csv')"
   ]
  },
  {
   "cell_type": "code",
   "execution_count": 50,
   "id": "821452b9",
   "metadata": {},
   "outputs": [],
   "source": [
    "CNN_predictions =  pd.read_csv('CNN_Results.csv')   # Predictions made by the CNN model\n",
    "final_predicted_CNN = CNN_predictions['Dominating_Emotion']"
   ]
  },
  {
   "cell_type": "code",
   "execution_count": 51,
   "id": "dd75f7bb",
   "metadata": {},
   "outputs": [],
   "source": [
    "final_groundtruth_emotions = ground_truth_emotions['Emotion_Identified']"
   ]
  },
  {
   "cell_type": "code",
   "execution_count": 52,
   "id": "baec00d4",
   "metadata": {},
   "outputs": [],
   "source": [
    "confusion_matrix = metrics.confusion_matrix(final_groundtruth_emotions,final_predicted_CNN)"
   ]
  },
  {
   "cell_type": "code",
   "execution_count": 53,
   "id": "7c307f02",
   "metadata": {},
   "outputs": [
    {
     "data": {
      "text/plain": [
       "array([[ 5,  1,  1,  1,  6,  6,  0],\n",
       "       [ 2,  1,  0,  0,  4,  0,  0],\n",
       "       [ 0,  0,  0,  1,  2,  2,  0],\n",
       "       [ 2,  0,  1,  9,  7,  7,  0],\n",
       "       [ 1,  0,  0,  0, 17,  5,  0],\n",
       "       [ 0,  0,  0,  1,  5, 10,  0],\n",
       "       [ 0,  0,  0,  3,  3,  1,  1]], dtype=int64)"
      ]
     },
     "execution_count": 53,
     "metadata": {},
     "output_type": "execute_result"
    }
   ],
   "source": [
    "confusion_matrix"
   ]
  },
  {
   "cell_type": "code",
   "execution_count": 54,
   "id": "d0ce1ab2",
   "metadata": {},
   "outputs": [
    {
     "name": "stdout",
     "output_type": "stream",
     "text": [
      "              precision    recall  f1-score   support\n",
      "\n",
      "       Angry       0.50      0.25      0.33        20\n",
      "     Disgust       0.50      0.14      0.22         7\n",
      "        Fear       0.00      0.00      0.00         5\n",
      "       Happy       0.60      0.35      0.44        26\n",
      "     Neutral       0.39      0.74      0.51        23\n",
      "         Sad       0.32      0.62      0.43        16\n",
      "    Surprise       1.00      0.12      0.22         8\n",
      "\n",
      "    accuracy                           0.41       105\n",
      "   macro avg       0.47      0.32      0.31       105\n",
      "weighted avg       0.49      0.41      0.38       105\n",
      "\n"
     ]
    }
   ],
   "source": [
    "print(metrics.classification_report(final_groundtruth_emotions,final_predicted_CNN))"
   ]
  },
  {
   "cell_type": "code",
   "execution_count": 55,
   "id": "841ed3e4",
   "metadata": {},
   "outputs": [],
   "source": [
    "cm_df = pd.DataFrame(confusion_matrix,\n",
    "                     index = ['ANGRY','DISGUST','FEAR','HAPPY','NEUTRAL','SAD','SURPRISE'], \n",
    "                     columns = ['ANGRY','DISGUST','FEAR','HAPPY','NEUTRAL','SAD','SURPRISE'])"
   ]
  },
  {
   "cell_type": "code",
   "execution_count": 57,
   "id": "c8057ae2",
   "metadata": {},
   "outputs": [
    {
     "data": {
      "text/html": [
       "<div>\n",
       "<style scoped>\n",
       "    .dataframe tbody tr th:only-of-type {\n",
       "        vertical-align: middle;\n",
       "    }\n",
       "\n",
       "    .dataframe tbody tr th {\n",
       "        vertical-align: top;\n",
       "    }\n",
       "\n",
       "    .dataframe thead th {\n",
       "        text-align: right;\n",
       "    }\n",
       "</style>\n",
       "<table border=\"1\" class=\"dataframe\">\n",
       "  <thead>\n",
       "    <tr style=\"text-align: right;\">\n",
       "      <th></th>\n",
       "      <th>ANGRY</th>\n",
       "      <th>DISGUST</th>\n",
       "      <th>FEAR</th>\n",
       "      <th>HAPPY</th>\n",
       "      <th>NEUTRAL</th>\n",
       "      <th>SAD</th>\n",
       "      <th>SURPRISE</th>\n",
       "    </tr>\n",
       "  </thead>\n",
       "  <tbody>\n",
       "    <tr>\n",
       "      <th>ANGRY</th>\n",
       "      <td>5</td>\n",
       "      <td>1</td>\n",
       "      <td>1</td>\n",
       "      <td>1</td>\n",
       "      <td>6</td>\n",
       "      <td>6</td>\n",
       "      <td>0</td>\n",
       "    </tr>\n",
       "    <tr>\n",
       "      <th>DISGUST</th>\n",
       "      <td>2</td>\n",
       "      <td>1</td>\n",
       "      <td>0</td>\n",
       "      <td>0</td>\n",
       "      <td>4</td>\n",
       "      <td>0</td>\n",
       "      <td>0</td>\n",
       "    </tr>\n",
       "    <tr>\n",
       "      <th>FEAR</th>\n",
       "      <td>0</td>\n",
       "      <td>0</td>\n",
       "      <td>0</td>\n",
       "      <td>1</td>\n",
       "      <td>2</td>\n",
       "      <td>2</td>\n",
       "      <td>0</td>\n",
       "    </tr>\n",
       "    <tr>\n",
       "      <th>HAPPY</th>\n",
       "      <td>2</td>\n",
       "      <td>0</td>\n",
       "      <td>1</td>\n",
       "      <td>9</td>\n",
       "      <td>7</td>\n",
       "      <td>7</td>\n",
       "      <td>0</td>\n",
       "    </tr>\n",
       "    <tr>\n",
       "      <th>NEUTRAL</th>\n",
       "      <td>1</td>\n",
       "      <td>0</td>\n",
       "      <td>0</td>\n",
       "      <td>0</td>\n",
       "      <td>17</td>\n",
       "      <td>5</td>\n",
       "      <td>0</td>\n",
       "    </tr>\n",
       "    <tr>\n",
       "      <th>SAD</th>\n",
       "      <td>0</td>\n",
       "      <td>0</td>\n",
       "      <td>0</td>\n",
       "      <td>1</td>\n",
       "      <td>5</td>\n",
       "      <td>10</td>\n",
       "      <td>0</td>\n",
       "    </tr>\n",
       "    <tr>\n",
       "      <th>SURPRISE</th>\n",
       "      <td>0</td>\n",
       "      <td>0</td>\n",
       "      <td>0</td>\n",
       "      <td>3</td>\n",
       "      <td>3</td>\n",
       "      <td>1</td>\n",
       "      <td>1</td>\n",
       "    </tr>\n",
       "  </tbody>\n",
       "</table>\n",
       "</div>"
      ],
      "text/plain": [
       "          ANGRY  DISGUST  FEAR  HAPPY  NEUTRAL  SAD  SURPRISE\n",
       "ANGRY         5        1     1      1        6    6         0\n",
       "DISGUST       2        1     0      0        4    0         0\n",
       "FEAR          0        0     0      1        2    2         0\n",
       "HAPPY         2        0     1      9        7    7         0\n",
       "NEUTRAL       1        0     0      0       17    5         0\n",
       "SAD           0        0     0      1        5   10         0\n",
       "SURPRISE      0        0     0      3        3    1         1"
      ]
     },
     "execution_count": 57,
     "metadata": {},
     "output_type": "execute_result"
    }
   ],
   "source": [
    "cm_df"
   ]
  },
  {
   "cell_type": "code",
   "execution_count": 83,
   "id": "1f9d2d86",
   "metadata": {
    "scrolled": true
   },
   "outputs": [
    {
     "data": {
      "image/png": "[encoded data removed]",
      "text/plain": [
       "<Figure size 360x288 with 2 Axes>"
      ]
     },
     "metadata": {
      "needs_background": "light"
     },
     "output_type": "display_data"
    }
   ],
   "source": [
    "#Plotting the confusion matrix\n",
    "plt.figure(figsize=(5,4))\n",
    "sns.heatmap(cm_df, annot=True, cmap ='Greens')\n",
    "plt.title('')\n",
    "plt.ylabel('Actal Values')\n",
    "plt.xlabel('Predicted Values')\n",
    "plt.show()"
   ]
  },
  {
   "cell_type": "code",
   "execution_count": 59,
   "id": "13ddb3c6",
   "metadata": {},
   "outputs": [],
   "source": [
    "report = metrics.classification_report(final_groundtruth_emotions,final_predicted_CNN, output_dict=True)"
   ]
  },
  {
   "cell_type": "code",
   "execution_count": 64,
   "id": "3b77d923",
   "metadata": {},
   "outputs": [
    {
     "name": "stdout",
     "output_type": "stream",
     "text": [
      "              precision    recall  f1-score   support\n",
      "\n",
      "       Angry       0.50      0.25      0.33        20\n",
      "     Disgust       0.50      0.14      0.22         7\n",
      "        Fear       0.00      0.00      0.00         5\n",
      "       Happy       0.60      0.35      0.44        26\n",
      "     Neutral       0.39      0.74      0.51        23\n",
      "         Sad       0.32      0.62      0.43        16\n",
      "    Surprise       1.00      0.12      0.22         8\n",
      "\n",
      "    accuracy                           0.41       105\n",
      "   macro avg       0.47      0.32      0.31       105\n",
      "weighted avg       0.49      0.41      0.38       105\n",
      "\n"
     ]
    }
   ],
   "source": [
    "print(metrics.classification_report(final_groundtruth_emotions,final_predicted_CNN))"
   ]
  },
  {
   "cell_type": "code",
   "execution_count": 60,
   "id": "d6b9e00a",
   "metadata": {},
   "outputs": [],
   "source": [
    "df = pd.DataFrame(report).transpose()"
   ]
  },
  {
   "cell_type": "code",
   "execution_count": 61,
   "id": "49a7bf20",
   "metadata": {},
   "outputs": [],
   "source": [
    "## saving the predictions \n",
    "\n",
    "df.to_csv('CNN_fer_ClassReport.csv')"
   ]
  },
  {
   "cell_type": "markdown",
   "id": "f53379a8",
   "metadata": {},
   "source": [
    "## SVM Results "
   ]
  },
  {
   "cell_type": "markdown",
   "id": "36bc7555",
   "metadata": {},
   "source": [
    "### This is to evaluate the results of SVM trained on FER-2013"
   ]
  },
  {
   "cell_type": "code",
   "execution_count": 68,
   "id": "59d11f7d",
   "metadata": {},
   "outputs": [],
   "source": [
    "svm_results_data = pd.read_csv('hog_svm_out.csv')"
   ]
  },
  {
   "cell_type": "code",
   "execution_count": 69,
   "id": "75f20f97",
   "metadata": {},
   "outputs": [
    {
     "data": {
      "text/html": [
       "<div>\n",
       "<style scoped>\n",
       "    .dataframe tbody tr th:only-of-type {\n",
       "        vertical-align: middle;\n",
       "    }\n",
       "\n",
       "    .dataframe tbody tr th {\n",
       "        vertical-align: top;\n",
       "    }\n",
       "\n",
       "    .dataframe thead th {\n",
       "        text-align: right;\n",
       "    }\n",
       "</style>\n",
       "<table border=\"1\" class=\"dataframe\">\n",
       "  <thead>\n",
       "    <tr style=\"text-align: right;\">\n",
       "      <th></th>\n",
       "      <th>emotion</th>\n",
       "      <th>Video_name</th>\n",
       "    </tr>\n",
       "  </thead>\n",
       "  <tbody>\n",
       "    <tr>\n",
       "      <th>0</th>\n",
       "      <td>sad</td>\n",
       "      <td>Video 0.mp4</td>\n",
       "    </tr>\n",
       "    <tr>\n",
       "      <th>1</th>\n",
       "      <td>fear</td>\n",
       "      <td>Video 1.mp4</td>\n",
       "    </tr>\n",
       "    <tr>\n",
       "      <th>2</th>\n",
       "      <td>neutral</td>\n",
       "      <td>Video 2.mp4</td>\n",
       "    </tr>\n",
       "    <tr>\n",
       "      <th>3</th>\n",
       "      <td>angry</td>\n",
       "      <td>Video 3.mp4</td>\n",
       "    </tr>\n",
       "    <tr>\n",
       "      <th>4</th>\n",
       "      <td>sad</td>\n",
       "      <td>Video 4.mp4</td>\n",
       "    </tr>\n",
       "  </tbody>\n",
       "</table>\n",
       "</div>"
      ],
      "text/plain": [
       "   emotion   Video_name\n",
       "0      sad  Video 0.mp4\n",
       "1     fear  Video 1.mp4\n",
       "2  neutral  Video 2.mp4\n",
       "3    angry  Video 3.mp4\n",
       "4      sad  Video 4.mp4"
      ]
     },
     "execution_count": 69,
     "metadata": {},
     "output_type": "execute_result"
    }
   ],
   "source": [
    "svm_results_data.head()"
   ]
  },
  {
   "cell_type": "code",
   "execution_count": 70,
   "id": "bb3809be",
   "metadata": {},
   "outputs": [
    {
     "data": {
      "text/plain": [
       "0           sad\n",
       "1          fear\n",
       "2       neutral\n",
       "3         angry\n",
       "4           sad\n",
       "         ...   \n",
       "100       happy\n",
       "101    surprise\n",
       "102         sad\n",
       "103     neutral\n",
       "104       happy\n",
       "Name: emotion, Length: 105, dtype: object"
      ]
     },
     "execution_count": 70,
     "metadata": {},
     "output_type": "execute_result"
    }
   ],
   "source": [
    "predicted_emotions  = svm_results_data['emotion']\n",
    "predicted_emotions"
   ]
  },
  {
   "cell_type": "code",
   "execution_count": 71,
   "id": "be0e2552",
   "metadata": {},
   "outputs": [
    {
     "data": {
      "text/plain": [
       "0           sad\n",
       "1          fear\n",
       "2       neutral\n",
       "3         angry\n",
       "4           sad\n",
       "         ...   \n",
       "100       happy\n",
       "101    surprise\n",
       "102         sad\n",
       "103     neutral\n",
       "104       happy\n",
       "Name: emotion, Length: 105, dtype: object"
      ]
     },
     "execution_count": 71,
     "metadata": {},
     "output_type": "execute_result"
    }
   ],
   "source": [
    "predicted_emotions = svm_results_data['emotion']\n",
    "predicted_emotions"
   ]
  },
  {
   "cell_type": "code",
   "execution_count": 72,
   "id": "7b921a13",
   "metadata": {},
   "outputs": [],
   "source": [
    "ground_truth_emotions = []\n",
    "for i in final_groundtruth_emotions:\n",
    "    ground_truth_emotions.append(i.lower())"
   ]
  },
  {
   "cell_type": "code",
   "execution_count": 73,
   "id": "d0b81ef4",
   "metadata": {
    "scrolled": true
   },
   "outputs": [
    {
     "data": {
      "text/plain": [
       "['happy',\n",
       " 'disgust',\n",
       " 'angry',\n",
       " 'disgust',\n",
       " 'disgust',\n",
       " 'sad',\n",
       " 'neutral',\n",
       " 'angry',\n",
       " 'angry',\n",
       " 'angry',\n",
       " 'happy',\n",
       " 'neutral',\n",
       " 'happy',\n",
       " 'sad',\n",
       " 'neutral',\n",
       " 'angry',\n",
       " 'angry',\n",
       " 'happy',\n",
       " 'happy',\n",
       " 'angry',\n",
       " 'neutral',\n",
       " 'angry',\n",
       " 'sad',\n",
       " 'sad',\n",
       " 'happy',\n",
       " 'sad',\n",
       " 'sad',\n",
       " 'fear',\n",
       " 'fear',\n",
       " 'sad',\n",
       " 'surprise',\n",
       " 'angry',\n",
       " 'angry',\n",
       " 'neutral',\n",
       " 'sad',\n",
       " 'neutral',\n",
       " 'surprise',\n",
       " 'happy',\n",
       " 'happy',\n",
       " 'neutral',\n",
       " 'surprise',\n",
       " 'angry',\n",
       " 'surprise',\n",
       " 'disgust',\n",
       " 'neutral',\n",
       " 'neutral',\n",
       " 'neutral',\n",
       " 'angry',\n",
       " 'fear',\n",
       " 'angry',\n",
       " 'angry',\n",
       " 'fear',\n",
       " 'neutral',\n",
       " 'angry',\n",
       " 'neutral',\n",
       " 'happy',\n",
       " 'happy',\n",
       " 'neutral',\n",
       " 'disgust',\n",
       " 'disgust',\n",
       " 'disgust',\n",
       " 'happy',\n",
       " 'angry',\n",
       " 'neutral',\n",
       " 'sad',\n",
       " 'sad',\n",
       " 'happy',\n",
       " 'angry',\n",
       " 'happy',\n",
       " 'sad',\n",
       " 'angry',\n",
       " 'angry',\n",
       " 'happy',\n",
       " 'happy',\n",
       " 'sad',\n",
       " 'happy',\n",
       " 'sad',\n",
       " 'neutral',\n",
       " 'neutral',\n",
       " 'neutral',\n",
       " 'neutral',\n",
       " 'happy',\n",
       " 'happy',\n",
       " 'happy',\n",
       " 'happy',\n",
       " 'neutral',\n",
       " 'surprise',\n",
       " 'sad',\n",
       " 'surprise',\n",
       " 'surprise',\n",
       " 'surprise',\n",
       " 'sad',\n",
       " 'happy',\n",
       " 'happy',\n",
       " 'angry',\n",
       " 'happy',\n",
       " 'sad',\n",
       " 'fear',\n",
       " 'neutral',\n",
       " 'happy',\n",
       " 'happy',\n",
       " 'neutral',\n",
       " 'neutral',\n",
       " 'neutral',\n",
       " 'happy']"
      ]
     },
     "execution_count": 73,
     "metadata": {},
     "output_type": "execute_result"
    }
   ],
   "source": [
    "ground_truth_emotions"
   ]
  },
  {
   "cell_type": "code",
   "execution_count": 74,
   "id": "fcc6de82",
   "metadata": {},
   "outputs": [
    {
     "name": "stdout",
     "output_type": "stream",
     "text": [
      "              precision    recall  f1-score   support\n",
      "\n",
      "       angry       0.57      0.20      0.30        20\n",
      "     disgust       0.00      0.00      0.00         7\n",
      "        fear       0.00      0.00      0.00         5\n",
      "       happy       0.86      0.46      0.60        26\n",
      "     neutral       0.44      0.61      0.51        23\n",
      "         sad       0.25      0.62      0.36        16\n",
      "    surprise       0.50      0.25      0.33         8\n",
      "\n",
      "    accuracy                           0.40       105\n",
      "   macro avg       0.37      0.31      0.30       105\n",
      "weighted avg       0.49      0.40      0.40       105\n",
      "\n"
     ]
    },
    {
     "name": "stderr",
     "output_type": "stream",
     "text": [
      "C:\\Users\\Khizer Ahmed\\AppData\\Local\\Programs\\Python\\Python310\\lib\\site-packages\\sklearn\\metrics\\_classification.py:1318: UndefinedMetricWarning: Precision and F-score are ill-defined and being set to 0.0 in labels with no predicted samples. Use `zero_division` parameter to control this behavior.\n",
      "  _warn_prf(average, modifier, msg_start, len(result))\n",
      "C:\\Users\\Khizer Ahmed\\AppData\\Local\\Programs\\Python\\Python310\\lib\\site-packages\\sklearn\\metrics\\_classification.py:1318: UndefinedMetricWarning: Precision and F-score are ill-defined and being set to 0.0 in labels with no predicted samples. Use `zero_division` parameter to control this behavior.\n",
      "  _warn_prf(average, modifier, msg_start, len(result))\n",
      "C:\\Users\\Khizer Ahmed\\AppData\\Local\\Programs\\Python\\Python310\\lib\\site-packages\\sklearn\\metrics\\_classification.py:1318: UndefinedMetricWarning: Precision and F-score are ill-defined and being set to 0.0 in labels with no predicted samples. Use `zero_division` parameter to control this behavior.\n",
      "  _warn_prf(average, modifier, msg_start, len(result))\n"
     ]
    }
   ],
   "source": [
    "print(metrics.classification_report(ground_truth_emotions,predicted_emotions))"
   ]
  },
  {
   "cell_type": "code",
   "execution_count": 87,
   "id": "475d4a1a",
   "metadata": {},
   "outputs": [
    {
     "name": "stderr",
     "output_type": "stream",
     "text": [
      "C:\\Users\\Khizer Ahmed\\AppData\\Local\\Programs\\Python\\Python310\\lib\\site-packages\\sklearn\\metrics\\_classification.py:1318: UndefinedMetricWarning: Precision and F-score are ill-defined and being set to 0.0 in labels with no predicted samples. Use `zero_division` parameter to control this behavior.\n",
      "  _warn_prf(average, modifier, msg_start, len(result))\n",
      "C:\\Users\\Khizer Ahmed\\AppData\\Local\\Programs\\Python\\Python310\\lib\\site-packages\\sklearn\\metrics\\_classification.py:1318: UndefinedMetricWarning: Precision and F-score are ill-defined and being set to 0.0 in labels with no predicted samples. Use `zero_division` parameter to control this behavior.\n",
      "  _warn_prf(average, modifier, msg_start, len(result))\n",
      "C:\\Users\\Khizer Ahmed\\AppData\\Local\\Programs\\Python\\Python310\\lib\\site-packages\\sklearn\\metrics\\_classification.py:1318: UndefinedMetricWarning: Precision and F-score are ill-defined and being set to 0.0 in labels with no predicted samples. Use `zero_division` parameter to control this behavior.\n",
      "  _warn_prf(average, modifier, msg_start, len(result))\n"
     ]
    }
   ],
   "source": [
    "report = metrics.classification_report(ground_truth_emotions,predicted_emotions, output_dict=True)"
   ]
  },
  {
   "cell_type": "code",
   "execution_count": 88,
   "id": "792de81b",
   "metadata": {},
   "outputs": [],
   "source": [
    "df  = pd.DataFrame(report).transpose()"
   ]
  },
  {
   "cell_type": "code",
   "execution_count": 90,
   "id": "652d5a7d",
   "metadata": {},
   "outputs": [],
   "source": [
    "df.to_csv('SVM_FER_CLF.csv')"
   ]
  },
  {
   "cell_type": "code",
   "execution_count": 75,
   "id": "3b650ba8",
   "metadata": {},
   "outputs": [],
   "source": [
    "cm_svm = metrics.confusion_matrix(ground_truth_emotions,predicted_emotions)\n",
    "cm_svm_df = pd.DataFrame(cm_svm,\n",
    "                     index = ['ANGRY','DISGUST','FEAR','HAPPY','NEUTRAL','SAD','SURPRISE'], \n",
    "                     columns = ['ANGRY','DISGUST','FEAR','HAPPY','NEUTRAL','SAD','SURPRISE'])"
   ]
  },
  {
   "cell_type": "code",
   "execution_count": 84,
   "id": "28a7c7f6",
   "metadata": {},
   "outputs": [
    {
     "data": {
      "image/png": "[encoded data removed]",
      "text/plain": [
       "<Figure size 360x288 with 2 Axes>"
      ]
     },
     "metadata": {
      "needs_background": "light"
     },
     "output_type": "display_data"
    }
   ],
   "source": [
    "#Plotting the confusion matrix\n",
    "plt.figure(figsize=(5,4))\n",
    "sns.heatmap(cm_svm_df, annot=True)\n",
    "plt.title('')\n",
    "plt.ylabel('Actal Values')\n",
    "plt.xlabel('Predicted Values')\n",
    "plt.show()"
   ]
  },
  {
   "cell_type": "code",
   "execution_count": null,
   "id": "a492ff6d",
   "metadata": {},
   "outputs": [],
   "source": []
  },
  {
   "cell_type": "code",
   "execution_count": null,
   "id": "cb50cef6",
   "metadata": {},
   "outputs": [],
   "source": []
  }
 ],
 "metadata": {
  "kernelspec": {
   "display_name": "Python 3 (ipykernel)",
   "language": "python",
   "name": "python3"
  },
  "language_info": {
   "codemirror_mode": {
    "name": "ipython",
    "version": 3
   },
   "file_extension": ".py",
   "mimetype": "text/x-python",
   "name": "python",
   "nbconvert_exporter": "python",
   "pygments_lexer": "ipython3",
   "version": "3.10.0"
  }
 },
 "nbformat": 4,
 "nbformat_minor": 5
}
