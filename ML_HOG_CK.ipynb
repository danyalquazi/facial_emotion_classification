{
 "cells": [
  {
   "cell_type": "code",
   "execution_count": 1,
   "id": "1b2dc88e",
   "metadata": {},
   "outputs": [],
   "source": [
    "import pandas as pd\n",
    "import os\n",
    "import numpy as np\n",
    "from skimage.io import imread, imshow\n",
    "from skimage.transform import resize\n",
    "from skimage.feature import hog\n",
    "from skimage import exposure\n",
    "import matplotlib.pyplot as plt\n",
    "%matplotlib inline"
   ]
  },
  {
   "cell_type": "code",
   "execution_count": 2,
   "id": "a09e7674",
   "metadata": {},
   "outputs": [],
   "source": [
    "im_df = pd.DataFrame()\n",
    "im_df['image'] = ''\n",
    "im_df['lable'] = ''"
   ]
  },
  {
   "cell_type": "code",
   "execution_count": 3,
   "id": "60ca9fff",
   "metadata": {},
   "outputs": [],
   "source": [
    "emotions = ['angry', 'disgust', 'fear', 'happy', 'neutral','sad', 'surprise']"
   ]
  },
  {
   "cell_type": "code",
   "execution_count": 4,
   "id": "bebba607",
   "metadata": {},
   "outputs": [],
   "source": [
    "for i in emotions:\n",
    "    for j in os.listdir('ck/CK+48/' + i):\n",
    "        im_df= im_df.append({'image': j, 'lable': i},ignore_index=True)"
   ]
  },
  {
   "cell_type": "code",
   "execution_count": 5,
   "id": "47ec8685",
   "metadata": {},
   "outputs": [
    {
     "data": {
      "text/html": [
       "<div>\n",
       "<style scoped>\n",
       "    .dataframe tbody tr th:only-of-type {\n",
       "        vertical-align: middle;\n",
       "    }\n",
       "\n",
       "    .dataframe tbody tr th {\n",
       "        vertical-align: top;\n",
       "    }\n",
       "\n",
       "    .dataframe thead th {\n",
       "        text-align: right;\n",
       "    }\n",
       "</style>\n",
       "<table border=\"1\" class=\"dataframe\">\n",
       "  <thead>\n",
       "    <tr style=\"text-align: right;\">\n",
       "      <th></th>\n",
       "      <th>image</th>\n",
       "      <th>lable</th>\n",
       "    </tr>\n",
       "  </thead>\n",
       "  <tbody>\n",
       "    <tr>\n",
       "      <th>0</th>\n",
       "      <td>S010_004_00000017.png</td>\n",
       "      <td>angry</td>\n",
       "    </tr>\n",
       "    <tr>\n",
       "      <th>1</th>\n",
       "      <td>S010_004_00000018.png</td>\n",
       "      <td>angry</td>\n",
       "    </tr>\n",
       "    <tr>\n",
       "      <th>2</th>\n",
       "      <td>S010_004_00000019.png</td>\n",
       "      <td>angry</td>\n",
       "    </tr>\n",
       "    <tr>\n",
       "      <th>3</th>\n",
       "      <td>S011_004_00000019.png</td>\n",
       "      <td>angry</td>\n",
       "    </tr>\n",
       "    <tr>\n",
       "      <th>4</th>\n",
       "      <td>S011_004_00000020.png</td>\n",
       "      <td>angry</td>\n",
       "    </tr>\n",
       "  </tbody>\n",
       "</table>\n",
       "</div>"
      ],
      "text/plain": [
       "                   image  lable\n",
       "0  S010_004_00000017.png  angry\n",
       "1  S010_004_00000018.png  angry\n",
       "2  S010_004_00000019.png  angry\n",
       "3  S011_004_00000019.png  angry\n",
       "4  S011_004_00000020.png  angry"
      ]
     },
     "execution_count": 5,
     "metadata": {},
     "output_type": "execute_result"
    }
   ],
   "source": [
    "im_df.head()"
   ]
  },
  {
   "cell_type": "code",
   "execution_count": 6,
   "id": "47bf03b7",
   "metadata": {},
   "outputs": [],
   "source": [
    "im_df = im_df.sample(frac=1)"
   ]
  },
  {
   "cell_type": "code",
   "execution_count": 7,
   "id": "02ad9a6e",
   "metadata": {},
   "outputs": [
    {
     "data": {
      "text/html": [
       "<div>\n",
       "<style scoped>\n",
       "    .dataframe tbody tr th:only-of-type {\n",
       "        vertical-align: middle;\n",
       "    }\n",
       "\n",
       "    .dataframe tbody tr th {\n",
       "        vertical-align: top;\n",
       "    }\n",
       "\n",
       "    .dataframe thead th {\n",
       "        text-align: right;\n",
       "    }\n",
       "</style>\n",
       "<table border=\"1\" class=\"dataframe\">\n",
       "  <thead>\n",
       "    <tr style=\"text-align: right;\">\n",
       "      <th></th>\n",
       "      <th>image</th>\n",
       "      <th>lable</th>\n",
       "    </tr>\n",
       "  </thead>\n",
       "  <tbody>\n",
       "    <tr>\n",
       "      <th>575</th>\n",
       "      <td>S132_006_00000023.png</td>\n",
       "      <td>happy</td>\n",
       "    </tr>\n",
       "    <tr>\n",
       "      <th>72</th>\n",
       "      <td>S092_003_00000012.png</td>\n",
       "      <td>angry</td>\n",
       "    </tr>\n",
       "    <tr>\n",
       "      <th>87</th>\n",
       "      <td>S113_008_00000021.png</td>\n",
       "      <td>angry</td>\n",
       "    </tr>\n",
       "    <tr>\n",
       "      <th>372</th>\n",
       "      <td>S501_004_00000054.png</td>\n",
       "      <td>fear</td>\n",
       "    </tr>\n",
       "    <tr>\n",
       "      <th>149</th>\n",
       "      <td>S035_005_00000019.png</td>\n",
       "      <td>disgust</td>\n",
       "    </tr>\n",
       "  </tbody>\n",
       "</table>\n",
       "</div>"
      ],
      "text/plain": [
       "                     image    lable\n",
       "575  S132_006_00000023.png    happy\n",
       "72   S092_003_00000012.png    angry\n",
       "87   S113_008_00000021.png    angry\n",
       "372  S501_004_00000054.png     fear\n",
       "149  S035_005_00000019.png  disgust"
      ]
     },
     "execution_count": 7,
     "metadata": {},
     "output_type": "execute_result"
    }
   ],
   "source": [
    "im_df.head()"
   ]
  },
  {
   "cell_type": "code",
   "execution_count": 8,
   "id": "7ba62819",
   "metadata": {},
   "outputs": [],
   "source": [
    "im_df = im_df.reset_index()"
   ]
  },
  {
   "cell_type": "code",
   "execution_count": 9,
   "id": "ddd719f2",
   "metadata": {},
   "outputs": [
    {
     "data": {
      "text/html": [
       "<div>\n",
       "<style scoped>\n",
       "    .dataframe tbody tr th:only-of-type {\n",
       "        vertical-align: middle;\n",
       "    }\n",
       "\n",
       "    .dataframe tbody tr th {\n",
       "        vertical-align: top;\n",
       "    }\n",
       "\n",
       "    .dataframe thead th {\n",
       "        text-align: right;\n",
       "    }\n",
       "</style>\n",
       "<table border=\"1\" class=\"dataframe\">\n",
       "  <thead>\n",
       "    <tr style=\"text-align: right;\">\n",
       "      <th></th>\n",
       "      <th>index</th>\n",
       "      <th>image</th>\n",
       "      <th>lable</th>\n",
       "    </tr>\n",
       "  </thead>\n",
       "  <tbody>\n",
       "    <tr>\n",
       "      <th>0</th>\n",
       "      <td>575</td>\n",
       "      <td>S132_006_00000023.png</td>\n",
       "      <td>happy</td>\n",
       "    </tr>\n",
       "    <tr>\n",
       "      <th>1</th>\n",
       "      <td>72</td>\n",
       "      <td>S092_003_00000012.png</td>\n",
       "      <td>angry</td>\n",
       "    </tr>\n",
       "    <tr>\n",
       "      <th>2</th>\n",
       "      <td>87</td>\n",
       "      <td>S113_008_00000021.png</td>\n",
       "      <td>angry</td>\n",
       "    </tr>\n",
       "    <tr>\n",
       "      <th>3</th>\n",
       "      <td>372</td>\n",
       "      <td>S501_004_00000054.png</td>\n",
       "      <td>fear</td>\n",
       "    </tr>\n",
       "    <tr>\n",
       "      <th>4</th>\n",
       "      <td>149</td>\n",
       "      <td>S035_005_00000019.png</td>\n",
       "      <td>disgust</td>\n",
       "    </tr>\n",
       "  </tbody>\n",
       "</table>\n",
       "</div>"
      ],
      "text/plain": [
       "   index                  image    lable\n",
       "0    575  S132_006_00000023.png    happy\n",
       "1     72  S092_003_00000012.png    angry\n",
       "2     87  S113_008_00000021.png    angry\n",
       "3    372  S501_004_00000054.png     fear\n",
       "4    149  S035_005_00000019.png  disgust"
      ]
     },
     "execution_count": 9,
     "metadata": {},
     "output_type": "execute_result"
    }
   ],
   "source": [
    "im_df.head()"
   ]
  },
  {
   "cell_type": "code",
   "execution_count": 10,
   "id": "113a2036",
   "metadata": {},
   "outputs": [],
   "source": [
    "img = imread('ck/CK+48/'+ im_df['lable'][1] + '/' + im_df['image'][1])\n",
    "f, hog_image = hog(img, orientations=9, pixels_per_cell=(8, 8), \n",
    "                    cells_per_block=(2, 2), visualize=True, multichannel=False)"
   ]
  },
  {
   "cell_type": "code",
   "execution_count": 11,
   "id": "c6ffa62a",
   "metadata": {},
   "outputs": [],
   "source": [
    "t_f = []\n",
    "t_l = []\n",
    "# t_f.append(f)\n",
    "# t_f.append(f2)\n",
    "# t_l.append(im_df['lable'][1])\n",
    "# t_l.append('sad')"
   ]
  },
  {
   "cell_type": "code",
   "execution_count": 12,
   "id": "19c5e82d",
   "metadata": {},
   "outputs": [],
   "source": [
    "for i in range(0, len(im_df)):\n",
    "    image = imread('ck/CK+48/'+ im_df['lable'][i] + '/' + im_df['image'][i])\n",
    "    fd,img = hog(image, orientations=9, pixels_per_cell=(8, 8), cells_per_block=(2, 2), visualize=True, multichannel=False)\n",
    "    t_f.append(fd)\n",
    "    t_l.append(im_df['lable'][i])"
   ]
  },
  {
   "cell_type": "code",
   "execution_count": 13,
   "id": "10e2dfc7",
   "metadata": {},
   "outputs": [
    {
     "data": {
      "text/plain": [
       "981"
      ]
     },
     "execution_count": 13,
     "metadata": {},
     "output_type": "execute_result"
    }
   ],
   "source": [
    "len(t_f)"
   ]
  },
  {
   "cell_type": "code",
   "execution_count": 14,
   "id": "1e3ff0e3",
   "metadata": {},
   "outputs": [],
   "source": [
    "train_f = t_f[0:800]\n",
    "train_l = t_l[0:800]\n",
    "test_f = t_f[800:]\n",
    "test_l = t_l[800:]"
   ]
  },
  {
   "cell_type": "code",
   "execution_count": null,
   "id": "d51f220f",
   "metadata": {},
   "outputs": [],
   "source": []
  },
  {
   "cell_type": "code",
   "execution_count": null,
   "id": "e6fd64f2",
   "metadata": {},
   "outputs": [],
   "source": []
  },
  {
   "cell_type": "code",
   "execution_count": 84,
   "id": "4b252967",
   "metadata": {},
   "outputs": [],
   "source": [
    "from sklearn import svm\n",
    "svm_l = svm.SVC()"
   ]
  },
  {
   "cell_type": "code",
   "execution_count": 85,
   "id": "072ec39b",
   "metadata": {},
   "outputs": [
    {
     "data": {
      "text/plain": [
       "SVC()"
      ]
     },
     "execution_count": 85,
     "metadata": {},
     "output_type": "execute_result"
    }
   ],
   "source": [
    "svm_l.fit(train_f, train_l)"
   ]
  },
  {
   "cell_type": "code",
   "execution_count": null,
   "id": "708c27bc",
   "metadata": {},
   "outputs": [],
   "source": [
    "import pickle"
   ]
  },
  {
   "cell_type": "code",
   "execution_count": null,
   "id": "9903c010",
   "metadata": {},
   "outputs": [],
   "source": [
    "# save the model to disk\n",
    "filename = 'hog_svm2.sav'\n",
    "# pickle.dump(svm_l, open(filename, 'wb'))\n",
    " \n",
    "# some time later...\n",
    " \n",
    "# load the model from disk\n",
    "svm_l = pickle.load(open(filename, 'rb'))"
   ]
  },
  {
   "cell_type": "code",
   "execution_count": 16,
   "id": "efda54df",
   "metadata": {},
   "outputs": [],
   "source": [
    "# t_im_df = pd.DataFrame()\n",
    "# t_im_df['image'] = ''\n",
    "# t_im_df['lable'] = ''"
   ]
  },
  {
   "cell_type": "code",
   "execution_count": 17,
   "id": "3a11518f",
   "metadata": {},
   "outputs": [],
   "source": [
    "# for i in emotions:\n",
    "#     for j in os.listdir('images/validation/' + i):\n",
    "#         t_im_df= t_im_df.append({'image': j, 'lable': i},ignore_index=True)"
   ]
  },
  {
   "cell_type": "code",
   "execution_count": 18,
   "id": "1512042a",
   "metadata": {},
   "outputs": [],
   "source": [
    "# test_x = []\n",
    "# test_y = []\n",
    "# # t_f.append(f)\n",
    "# # t_f.append(f2)\n",
    "# # t_l.append(im_df['lable'][1])\n",
    "# # t_l.append('sad')"
   ]
  },
  {
   "cell_type": "code",
   "execution_count": 19,
   "id": "29421ce2",
   "metadata": {},
   "outputs": [],
   "source": [
    "# for i in range(0, len(t_im_df)):\n",
    "#     image = imread('images/'+'validation/'+ t_im_df['lable'][i] + '/' + t_im_df['image'][i])\n",
    "#     fd,img = hog(image, orientations=9, pixels_per_cell=(8, 8), cells_per_block=(2, 2), visualize=True, multichannel=False)\n",
    "#     test_x.append(fd)\n",
    "#     test_y.append(t_im_df['lable'][i])"
   ]
  },
  {
   "cell_type": "code",
   "execution_count": 20,
   "id": "55a536e6",
   "metadata": {},
   "outputs": [],
   "source": [
    "from sklearn.metrics import classification_report"
   ]
  },
  {
   "cell_type": "code",
   "execution_count": 87,
   "id": "d42c6a10",
   "metadata": {},
   "outputs": [
    {
     "data": {
      "text/plain": [
       "['surprise',\n",
       " 'happy',\n",
       " 'disgust',\n",
       " 'angry',\n",
       " 'happy',\n",
       " 'angry',\n",
       " 'happy',\n",
       " 'angry',\n",
       " 'disgust',\n",
       " 'angry',\n",
       " 'angry',\n",
       " 'sad',\n",
       " 'happy',\n",
       " 'sad',\n",
       " 'angry',\n",
       " 'surprise',\n",
       " 'surprise',\n",
       " 'surprise',\n",
       " 'happy',\n",
       " 'sad',\n",
       " 'sad',\n",
       " 'sad',\n",
       " 'fear',\n",
       " 'surprise',\n",
       " 'disgust',\n",
       " 'sad',\n",
       " 'angry',\n",
       " 'disgust',\n",
       " 'angry',\n",
       " 'surprise',\n",
       " 'happy',\n",
       " 'disgust',\n",
       " 'happy',\n",
       " 'sad',\n",
       " 'angry',\n",
       " 'fear',\n",
       " 'surprise',\n",
       " 'surprise',\n",
       " 'surprise',\n",
       " 'happy',\n",
       " 'disgust',\n",
       " 'happy',\n",
       " 'surprise',\n",
       " 'disgust',\n",
       " 'surprise',\n",
       " 'disgust',\n",
       " 'surprise',\n",
       " 'happy',\n",
       " 'angry',\n",
       " 'angry',\n",
       " 'fear',\n",
       " 'disgust',\n",
       " 'angry',\n",
       " 'happy',\n",
       " 'neutral',\n",
       " 'neutral',\n",
       " 'disgust',\n",
       " 'sad',\n",
       " 'happy',\n",
       " 'happy',\n",
       " 'happy',\n",
       " 'surprise',\n",
       " 'surprise',\n",
       " 'sad',\n",
       " 'sad',\n",
       " 'surprise',\n",
       " 'angry',\n",
       " 'happy',\n",
       " 'disgust',\n",
       " 'sad',\n",
       " 'angry',\n",
       " 'happy',\n",
       " 'disgust',\n",
       " 'disgust',\n",
       " 'disgust',\n",
       " 'angry',\n",
       " 'happy',\n",
       " 'angry',\n",
       " 'angry',\n",
       " 'surprise',\n",
       " 'happy',\n",
       " 'angry',\n",
       " 'happy',\n",
       " 'sad',\n",
       " 'sad',\n",
       " 'fear',\n",
       " 'happy',\n",
       " 'sad',\n",
       " 'happy',\n",
       " 'fear',\n",
       " 'disgust',\n",
       " 'happy',\n",
       " 'sad',\n",
       " 'happy',\n",
       " 'disgust',\n",
       " 'disgust',\n",
       " 'surprise',\n",
       " 'fear',\n",
       " 'disgust',\n",
       " 'neutral',\n",
       " 'disgust',\n",
       " 'neutral',\n",
       " 'surprise',\n",
       " 'angry',\n",
       " 'happy',\n",
       " 'happy',\n",
       " 'disgust',\n",
       " 'surprise',\n",
       " 'surprise',\n",
       " 'fear',\n",
       " 'surprise',\n",
       " 'happy',\n",
       " 'happy',\n",
       " 'fear',\n",
       " 'surprise',\n",
       " 'happy',\n",
       " 'disgust',\n",
       " 'disgust',\n",
       " 'angry',\n",
       " 'surprise',\n",
       " 'happy',\n",
       " 'disgust',\n",
       " 'surprise',\n",
       " 'surprise',\n",
       " 'angry',\n",
       " 'surprise',\n",
       " 'sad',\n",
       " 'happy',\n",
       " 'surprise',\n",
       " 'disgust',\n",
       " 'surprise',\n",
       " 'sad',\n",
       " 'neutral',\n",
       " 'angry',\n",
       " 'disgust',\n",
       " 'sad',\n",
       " 'surprise',\n",
       " 'angry',\n",
       " 'disgust',\n",
       " 'neutral',\n",
       " 'surprise',\n",
       " 'surprise',\n",
       " 'surprise',\n",
       " 'disgust',\n",
       " 'happy',\n",
       " 'happy',\n",
       " 'neutral',\n",
       " 'happy',\n",
       " 'surprise',\n",
       " 'disgust',\n",
       " 'happy',\n",
       " 'surprise',\n",
       " 'surprise',\n",
       " 'happy',\n",
       " 'happy',\n",
       " 'surprise',\n",
       " 'disgust',\n",
       " 'happy',\n",
       " 'sad',\n",
       " 'sad',\n",
       " 'sad',\n",
       " 'disgust',\n",
       " 'happy',\n",
       " 'disgust',\n",
       " 'fear',\n",
       " 'angry',\n",
       " 'happy',\n",
       " 'disgust',\n",
       " 'disgust',\n",
       " 'happy',\n",
       " 'neutral',\n",
       " 'surprise',\n",
       " 'happy',\n",
       " 'disgust',\n",
       " 'neutral',\n",
       " 'disgust',\n",
       " 'happy',\n",
       " 'angry',\n",
       " 'neutral',\n",
       " 'neutral',\n",
       " 'angry']"
      ]
     },
     "execution_count": 87,
     "metadata": {},
     "output_type": "execute_result"
    }
   ],
   "source": [
    "test_l"
   ]
  },
  {
   "cell_type": "code",
   "execution_count": 111,
   "id": "958adfed",
   "metadata": {},
   "outputs": [],
   "source": [
    "ck_svm_pre = svm_l.predict(test_f)"
   ]
  },
  {
   "cell_type": "code",
   "execution_count": 112,
   "id": "c10303f5",
   "metadata": {},
   "outputs": [
    {
     "data": {
      "text/plain": [
       "array(['surprise', 'happy', 'surprise', ..., 'surprise', 'sad',\n",
       "       'surprise'], dtype='<U8')"
      ]
     },
     "execution_count": 112,
     "metadata": {},
     "output_type": "execute_result"
    }
   ],
   "source": [
    "svm_pre"
   ]
  },
  {
   "cell_type": "code",
   "execution_count": 114,
   "id": "7772aa12",
   "metadata": {},
   "outputs": [
    {
     "name": "stdout",
     "output_type": "stream",
     "text": [
      "              precision    recall  f1-score   support\n",
      "\n",
      "       angry       1.00      0.93      0.96        28\n",
      "     disgust       1.00      1.00      1.00        35\n",
      "        fear       1.00      1.00      1.00         9\n",
      "       happy       1.00      1.00      1.00        42\n",
      "     neutral       0.91      1.00      0.95        10\n",
      "         sad       0.90      1.00      0.95        19\n",
      "    surprise       1.00      0.97      0.99        38\n",
      "\n",
      "    accuracy                           0.98       181\n",
      "   macro avg       0.97      0.99      0.98       181\n",
      "weighted avg       0.98      0.98      0.98       181\n",
      "\n"
     ]
    }
   ],
   "source": [
    "print(classification_report(ck_svm_pre, test_l))"
   ]
  },
  {
   "cell_type": "code",
   "execution_count": 183,
   "id": "42ad8f92",
   "metadata": {},
   "outputs": [],
   "source": [
    "ck_svm_pre_ls = []\n",
    "for i in ck_svm_pre:\n",
    "    ck_svm_pre_ls.append(i)"
   ]
  },
  {
   "cell_type": "code",
   "execution_count": 188,
   "id": "db371ca4",
   "metadata": {},
   "outputs": [],
   "source": [
    "c_m_i = confusion_matrix(test_l, ck_svm_pre)"
   ]
  },
  {
   "cell_type": "code",
   "execution_count": 189,
   "id": "207c0a5e",
   "metadata": {},
   "outputs": [
    {
     "data": {
      "image/png": "[encoded data removed]",
      "text/plain": [
       "<Figure size 360x288 with 2 Axes>"
      ]
     },
     "metadata": {
      "needs_background": "light"
     },
     "output_type": "display_data"
    }
   ],
   "source": [
    "## Confusion Matirx                                                                                                        \n",
    "cm_df = pd.DataFrame(c_m_i, index = ['ANGRY','DISGUST','FEAR','HAPPY','NEUTRAL','SAD','SURPRISE'], columns = ['ANGRY','DISGUST','FEAR','HAPPY','NEUTRAL','SAD','SURPRISE']) \n",
    "#Plotting the confusion matrix\n",
    "plt.figure(figsize=(5,4))\n",
    "sns.heatmap(cm_df, annot=True)\n",
    "plt.title('')\n",
    "plt.ylabel('Actal Values')\n",
    "plt.xlabel('Predicted Values')\n",
    "plt.show()"
   ]
  },
  {
   "cell_type": "code",
   "execution_count": 129,
   "id": "13e4be7f",
   "metadata": {},
   "outputs": [
    {
     "data": {
      "text/plain": [
       "'angry'"
      ]
     },
     "execution_count": 129,
     "metadata": {},
     "output_type": "execute_result"
    }
   ],
   "source": [
    "ck_svm_pre[10]"
   ]
  },
  {
   "cell_type": "code",
   "execution_count": 128,
   "id": "17b00627",
   "metadata": {},
   "outputs": [
    {
     "data": {
      "text/plain": [
       "'angry'"
      ]
     },
     "execution_count": 128,
     "metadata": {},
     "output_type": "execute_result"
    }
   ],
   "source": [
    "test_l[10]"
   ]
  },
  {
   "cell_type": "code",
   "execution_count": null,
   "id": "7701e69d",
   "metadata": {},
   "outputs": [],
   "source": []
  },
  {
   "cell_type": "code",
   "execution_count": 119,
   "id": "71e88c94",
   "metadata": {},
   "outputs": [
    {
     "data": {
      "text/plain": [
       "900"
      ]
     },
     "execution_count": 119,
     "metadata": {},
     "output_type": "execute_result"
    }
   ],
   "source": [
    "len(test_f[1])"
   ]
  },
  {
   "cell_type": "code",
   "execution_count": 120,
   "id": "1d19402c",
   "metadata": {},
   "outputs": [],
   "source": [
    "# svm_l.predict(test_f[1].reshape(-1, 1))"
   ]
  },
  {
   "cell_type": "markdown",
   "id": "b2a74a90",
   "metadata": {},
   "source": [
    "# KNN"
   ]
  },
  {
   "cell_type": "code",
   "execution_count": 15,
   "id": "e77005b4",
   "metadata": {},
   "outputs": [],
   "source": [
    "from sklearn.neighbors import KNeighborsClassifier"
   ]
  },
  {
   "cell_type": "code",
   "execution_count": 16,
   "id": "dad883ec",
   "metadata": {},
   "outputs": [],
   "source": [
    "KNN = KNeighborsClassifier(n_neighbors=4)"
   ]
  },
  {
   "cell_type": "code",
   "execution_count": 19,
   "id": "d8f9a3b4",
   "metadata": {},
   "outputs": [
    {
     "data": {
      "text/plain": [
       "KNeighborsClassifier(n_neighbors=4)"
      ]
     },
     "execution_count": 19,
     "metadata": {},
     "output_type": "execute_result"
    }
   ],
   "source": [
    "KNN.fit(train_f, train_l)"
   ]
  },
  {
   "cell_type": "code",
   "execution_count": 21,
   "id": "860da81e",
   "metadata": {},
   "outputs": [],
   "source": [
    "ck_sknn_pre = KNN.predict(test_f)"
   ]
  },
  {
   "cell_type": "code",
   "execution_count": 24,
   "id": "290a254d",
   "metadata": {},
   "outputs": [
    {
     "name": "stdout",
     "output_type": "stream",
     "text": [
      "              precision    recall  f1-score   support\n",
      "\n",
      "       angry       0.81      0.54      0.65        41\n",
      "     disgust       0.70      0.61      0.65        38\n",
      "        fear       0.85      0.58      0.69        19\n",
      "       happy       0.66      0.83      0.73        35\n",
      "     neutral       0.71      0.50      0.59        10\n",
      "         sad       0.33      0.38      0.35         8\n",
      "    surprise       0.62      1.00      0.77        30\n",
      "\n",
      "    accuracy                           0.68       181\n",
      "   macro avg       0.67      0.63      0.63       181\n",
      "weighted avg       0.70      0.68      0.67       181\n",
      "\n"
     ]
    }
   ],
   "source": [
    "print(classification_report(ck_sknn_pre, test_l))"
   ]
  },
  {
   "cell_type": "code",
   "execution_count": 29,
   "id": "6e71338c",
   "metadata": {},
   "outputs": [],
   "source": [
    "knn_report = classification_report(ck_sknn_pre, test_l, output_dict=True)"
   ]
  },
  {
   "cell_type": "code",
   "execution_count": 30,
   "id": "429aacd9",
   "metadata": {},
   "outputs": [],
   "source": [
    "knn_clf = pd.DataFrame(knn_report).transpose()"
   ]
  },
  {
   "cell_type": "code",
   "execution_count": 32,
   "id": "5ba8a4d4",
   "metadata": {},
   "outputs": [],
   "source": [
    "knn_clf.to_csv('knn_clf.csv')"
   ]
  },
  {
   "cell_type": "code",
   "execution_count": 38,
   "id": "ee2e6d99",
   "metadata": {},
   "outputs": [],
   "source": [
    "c_m_i_knn = confusion_matrix(test_l, ck_sknn_pre)"
   ]
  },
  {
   "cell_type": "code",
   "execution_count": 39,
   "id": "9412c956",
   "metadata": {},
   "outputs": [
    {
     "data": {
      "image/png": "[encoded data removed]",
      "text/plain": [
       "<Figure size 360x288 with 2 Axes>"
      ]
     },
     "metadata": {
      "needs_background": "light"
     },
     "output_type": "display_data"
    }
   ],
   "source": [
    "## Confusion Matirx                                                                                                        \n",
    "cm_df_knn = pd.DataFrame(c_m_i_knn, index = ['ANGRY','DISGUST','FEAR','HAPPY','NEUTRAL','SAD','SURPRISE'], columns = ['ANGRY','DISGUST','FEAR','HAPPY','NEUTRAL','SAD','SURPRISE']) \n",
    "#Plotting the confusion matrix\n",
    "plt.figure(figsize=(5,4))\n",
    "sns.heatmap(cm_df_knn, annot=True)\n",
    "plt.title('')\n",
    "plt.ylabel('Actal Values')\n",
    "plt.xlabel('Predicted Values')\n",
    "plt.show()"
   ]
  },
  {
   "cell_type": "code",
   "execution_count": null,
   "id": "8777f811",
   "metadata": {},
   "outputs": [],
   "source": []
  },
  {
   "cell_type": "code",
   "execution_count": null,
   "id": "c30a21b1",
   "metadata": {},
   "outputs": [],
   "source": []
  },
  {
   "cell_type": "markdown",
   "id": "16771995",
   "metadata": {},
   "source": [
    "# RF"
   ]
  },
  {
   "cell_type": "code",
   "execution_count": 17,
   "id": "cc62d6ba",
   "metadata": {},
   "outputs": [],
   "source": [
    "from sklearn.ensemble import RandomForestClassifier"
   ]
  },
  {
   "cell_type": "code",
   "execution_count": 18,
   "id": "d3cd6e8a",
   "metadata": {},
   "outputs": [],
   "source": [
    "RF = RandomForestClassifier(max_depth=25, random_state=0)"
   ]
  },
  {
   "cell_type": "code",
   "execution_count": 25,
   "id": "3b880d01",
   "metadata": {},
   "outputs": [
    {
     "data": {
      "text/plain": [
       "RandomForestClassifier(max_depth=25, random_state=0)"
      ]
     },
     "execution_count": 25,
     "metadata": {},
     "output_type": "execute_result"
    }
   ],
   "source": [
    "RF.fit(train_f, train_l)"
   ]
  },
  {
   "cell_type": "code",
   "execution_count": 26,
   "id": "3dce7fe6",
   "metadata": {},
   "outputs": [],
   "source": [
    "ck_rf_pre = RF.predict(test_f)"
   ]
  },
  {
   "cell_type": "code",
   "execution_count": 28,
   "id": "ebef87b0",
   "metadata": {},
   "outputs": [
    {
     "name": "stdout",
     "output_type": "stream",
     "text": [
      "              precision    recall  f1-score   support\n",
      "\n",
      "       angry       1.00      1.00      1.00        27\n",
      "     disgust       1.00      0.97      0.99        34\n",
      "        fear       0.85      1.00      0.92        11\n",
      "       happy       1.00      0.94      0.97        47\n",
      "     neutral       0.71      1.00      0.83         5\n",
      "         sad       1.00      1.00      1.00         9\n",
      "    surprise       1.00      1.00      1.00        48\n",
      "\n",
      "    accuracy                           0.98       181\n",
      "   macro avg       0.94      0.99      0.96       181\n",
      "weighted avg       0.98      0.98      0.98       181\n",
      "\n"
     ]
    }
   ],
   "source": [
    "print(classification_report(ck_rf_pre, test_l))"
   ]
  },
  {
   "cell_type": "code",
   "execution_count": 33,
   "id": "23a5a64c",
   "metadata": {},
   "outputs": [],
   "source": [
    "rf_report = classification_report(ck_rf_pre, test_l, output_dict=True)"
   ]
  },
  {
   "cell_type": "code",
   "execution_count": 34,
   "id": "567985cc",
   "metadata": {},
   "outputs": [],
   "source": [
    "rf_clf = pd.DataFrame(rf_report).transpose()"
   ]
  },
  {
   "cell_type": "code",
   "execution_count": 35,
   "id": "49e2bf35",
   "metadata": {},
   "outputs": [],
   "source": [
    "rf_clf.to_csv('rf_clf.csv')"
   ]
  },
  {
   "cell_type": "code",
   "execution_count": 43,
   "id": "27632b4e",
   "metadata": {},
   "outputs": [
    {
     "data": {
      "text/plain": [
       "array([[27,  0,  0,  0,  0,  0,  0],\n",
       "       [ 0, 33,  0,  0,  0,  0,  0],\n",
       "       [ 0,  1, 11,  1,  0,  0,  0],\n",
       "       [ 0,  0,  0, 44,  0,  0,  0],\n",
       "       [ 0,  0,  0,  2,  5,  0,  0],\n",
       "       [ 0,  0,  0,  0,  0,  9,  0],\n",
       "       [ 0,  0,  0,  0,  0,  0, 48]], dtype=int64)"
      ]
     },
     "execution_count": 43,
     "metadata": {},
     "output_type": "execute_result"
    }
   ],
   "source": [
    "c_m_i_rf"
   ]
  },
  {
   "cell_type": "code",
   "execution_count": 40,
   "id": "76919c14",
   "metadata": {},
   "outputs": [],
   "source": [
    "c_m_i_rf = confusion_matrix(test_l, ck_rf_pre)"
   ]
  },
  {
   "cell_type": "code",
   "execution_count": 42,
   "id": "c3d06be0",
   "metadata": {},
   "outputs": [
    {
     "data": {
      "image/png": "[encoded data removed]",
      "text/plain": [
       "<Figure size 360x288 with 2 Axes>"
      ]
     },
     "metadata": {
      "needs_background": "light"
     },
     "output_type": "display_data"
    }
   ],
   "source": [
    "## Confusion Matirx                                                                                                        \n",
    "cm_df_rf = pd.DataFrame(c_m_i_rf, index = ['ANGRY','DISGUST','FEAR','HAPPY','NEUTRAL','SAD','SURPRISE'], columns = ['ANGRY','DISGUST','FEAR','HAPPY','NEUTRAL','SAD','SURPRISE']) \n",
    "#Plotting the confusion matrix\n",
    "plt.figure(figsize=(5,4))\n",
    "sns.heatmap(cm_df_rf, annot=True)\n",
    "plt.title('')\n",
    "plt.ylabel('Actal Values')\n",
    "plt.xlabel('Predicted Values')\n",
    "plt.show()"
   ]
  },
  {
   "cell_type": "markdown",
   "id": "fa77d499",
   "metadata": {},
   "source": [
    "# Using model trained on CK+ to predict Fer 2013"
   ]
  },
  {
   "cell_type": "code",
   "execution_count": 99,
   "id": "b41da397",
   "metadata": {},
   "outputs": [
    {
     "data": {
      "text/plain": [
       "['angry', 'disgust', 'fear', 'happy', 'neutral', 'sad', 'surprise']"
      ]
     },
     "execution_count": 99,
     "metadata": {},
     "output_type": "execute_result"
    }
   ],
   "source": [
    "emotions"
   ]
  },
  {
   "cell_type": "code",
   "execution_count": 100,
   "id": "69ce4251",
   "metadata": {},
   "outputs": [],
   "source": [
    "t_im_df = pd.DataFrame()\n",
    "t_im_df['image'] = ''\n",
    "t_im_df['lable'] = ''"
   ]
  },
  {
   "cell_type": "code",
   "execution_count": 101,
   "id": "90dc6f91",
   "metadata": {},
   "outputs": [],
   "source": [
    "for i in emotions:\n",
    "    for j in os.listdir('test/' + i):\n",
    "        t_im_df= t_im_df.append({'image': j, 'lable': i},ignore_index=True)"
   ]
  },
  {
   "cell_type": "code",
   "execution_count": 102,
   "id": "2dff93fd",
   "metadata": {},
   "outputs": [
    {
     "data": {
      "text/html": [
       "<div>\n",
       "<style scoped>\n",
       "    .dataframe tbody tr th:only-of-type {\n",
       "        vertical-align: middle;\n",
       "    }\n",
       "\n",
       "    .dataframe tbody tr th {\n",
       "        vertical-align: top;\n",
       "    }\n",
       "\n",
       "    .dataframe thead th {\n",
       "        text-align: right;\n",
       "    }\n",
       "</style>\n",
       "<table border=\"1\" class=\"dataframe\">\n",
       "  <thead>\n",
       "    <tr style=\"text-align: right;\">\n",
       "      <th></th>\n",
       "      <th>image</th>\n",
       "      <th>lable</th>\n",
       "    </tr>\n",
       "  </thead>\n",
       "  <tbody>\n",
       "    <tr>\n",
       "      <th>0</th>\n",
       "      <td>PrivateTest_10131363.jpg</td>\n",
       "      <td>angry</td>\n",
       "    </tr>\n",
       "    <tr>\n",
       "      <th>1</th>\n",
       "      <td>PrivateTest_10304478.jpg</td>\n",
       "      <td>angry</td>\n",
       "    </tr>\n",
       "    <tr>\n",
       "      <th>2</th>\n",
       "      <td>PrivateTest_1054527.jpg</td>\n",
       "      <td>angry</td>\n",
       "    </tr>\n",
       "    <tr>\n",
       "      <th>3</th>\n",
       "      <td>PrivateTest_10590091.jpg</td>\n",
       "      <td>angry</td>\n",
       "    </tr>\n",
       "    <tr>\n",
       "      <th>4</th>\n",
       "      <td>PrivateTest_1109992.jpg</td>\n",
       "      <td>angry</td>\n",
       "    </tr>\n",
       "  </tbody>\n",
       "</table>\n",
       "</div>"
      ],
      "text/plain": [
       "                      image  lable\n",
       "0  PrivateTest_10131363.jpg  angry\n",
       "1  PrivateTest_10304478.jpg  angry\n",
       "2   PrivateTest_1054527.jpg  angry\n",
       "3  PrivateTest_10590091.jpg  angry\n",
       "4   PrivateTest_1109992.jpg  angry"
      ]
     },
     "execution_count": 102,
     "metadata": {},
     "output_type": "execute_result"
    }
   ],
   "source": [
    "t_im_df.head()"
   ]
  },
  {
   "cell_type": "code",
   "execution_count": 103,
   "id": "5d090a7a",
   "metadata": {},
   "outputs": [],
   "source": [
    "t_im_df = t_im_df.sample(frac=1)"
   ]
  },
  {
   "cell_type": "code",
   "execution_count": 104,
   "id": "f4f0793f",
   "metadata": {},
   "outputs": [],
   "source": [
    "t_im_df = t_im_df.reset_index()"
   ]
  },
  {
   "cell_type": "code",
   "execution_count": 105,
   "id": "ccb39db8",
   "metadata": {},
   "outputs": [
    {
     "data": {
      "text/html": [
       "<div>\n",
       "<style scoped>\n",
       "    .dataframe tbody tr th:only-of-type {\n",
       "        vertical-align: middle;\n",
       "    }\n",
       "\n",
       "    .dataframe tbody tr th {\n",
       "        vertical-align: top;\n",
       "    }\n",
       "\n",
       "    .dataframe thead th {\n",
       "        text-align: right;\n",
       "    }\n",
       "</style>\n",
       "<table border=\"1\" class=\"dataframe\">\n",
       "  <thead>\n",
       "    <tr style=\"text-align: right;\">\n",
       "      <th></th>\n",
       "      <th>index</th>\n",
       "      <th>image</th>\n",
       "      <th>lable</th>\n",
       "    </tr>\n",
       "  </thead>\n",
       "  <tbody>\n",
       "    <tr>\n",
       "      <th>0</th>\n",
       "      <td>6503</td>\n",
       "      <td>PrivateTest_41853394.jpg</td>\n",
       "      <td>surprise</td>\n",
       "    </tr>\n",
       "    <tr>\n",
       "      <th>1</th>\n",
       "      <td>2828</td>\n",
       "      <td>PrivateTest_85826121.jpg</td>\n",
       "      <td>happy</td>\n",
       "    </tr>\n",
       "    <tr>\n",
       "      <th>2</th>\n",
       "      <td>3353</td>\n",
       "      <td>PublicTest_48170323.jpg</td>\n",
       "      <td>happy</td>\n",
       "    </tr>\n",
       "    <tr>\n",
       "      <th>3</th>\n",
       "      <td>1123</td>\n",
       "      <td>PrivateTest_17591258.jpg</td>\n",
       "      <td>fear</td>\n",
       "    </tr>\n",
       "    <tr>\n",
       "      <th>4</th>\n",
       "      <td>1309</td>\n",
       "      <td>PrivateTest_48336881.jpg</td>\n",
       "      <td>fear</td>\n",
       "    </tr>\n",
       "  </tbody>\n",
       "</table>\n",
       "</div>"
      ],
      "text/plain": [
       "   index                     image     lable\n",
       "0   6503  PrivateTest_41853394.jpg  surprise\n",
       "1   2828  PrivateTest_85826121.jpg     happy\n",
       "2   3353   PublicTest_48170323.jpg     happy\n",
       "3   1123  PrivateTest_17591258.jpg      fear\n",
       "4   1309  PrivateTest_48336881.jpg      fear"
      ]
     },
     "execution_count": 105,
     "metadata": {},
     "output_type": "execute_result"
    }
   ],
   "source": [
    "t_im_df.head()"
   ]
  },
  {
   "cell_type": "code",
   "execution_count": 106,
   "id": "f82f03a7",
   "metadata": {},
   "outputs": [],
   "source": [
    "fer_test_x = []\n",
    "fer_test_y = []\n",
    "# t_f.append(f)\n",
    "# t_f.append(f2)\n",
    "# t_l.append(im_df['lable'][1])\n",
    "# t_l.append('sad')"
   ]
  },
  {
   "cell_type": "code",
   "execution_count": 107,
   "id": "2b4ef224",
   "metadata": {},
   "outputs": [],
   "source": [
    "for i in range(0, len(t_im_df)):\n",
    "    image = imread('test/'+ t_im_df['lable'][i] + '/' + t_im_df['image'][i])\n",
    "    fd,img = hog(image, orientations=9, pixels_per_cell=(8, 8), cells_per_block=(2, 2), visualize=True, multichannel=False)\n",
    "    fer_test_x.append(fd)\n",
    "    fer_test_y.append(t_im_df['lable'][i])"
   ]
  },
  {
   "cell_type": "code",
   "execution_count": 216,
   "id": "d2c8129c",
   "metadata": {},
   "outputs": [
    {
     "data": {
      "text/plain": [
       "900"
      ]
     },
     "execution_count": 216,
     "metadata": {},
     "output_type": "execute_result"
    }
   ],
   "source": [
    "len(fer_test_x[0])"
   ]
  },
  {
   "cell_type": "code",
   "execution_count": 108,
   "id": "8b788917",
   "metadata": {},
   "outputs": [],
   "source": [
    "svm_pre = svm_l.predict(fer_test_x)"
   ]
  },
  {
   "cell_type": "code",
   "execution_count": 110,
   "id": "9c528f90",
   "metadata": {},
   "outputs": [
    {
     "name": "stdout",
     "output_type": "stream",
     "text": [
      "              precision    recall  f1-score   support\n",
      "\n",
      "       angry       0.13      0.10      0.11       958\n",
      "     disgust       0.04      0.42      0.08       111\n",
      "        fear       0.19      0.08      0.12      1024\n",
      "       happy       0.73      0.34      0.46      1774\n",
      "     neutral       0.21      0.04      0.06      1233\n",
      "         sad       0.25      0.08      0.12      1247\n",
      "    surprise       0.19      0.81      0.31       831\n",
      "\n",
      "    accuracy                           0.23      7178\n",
      "   macro avg       0.25      0.27      0.18      7178\n",
      "weighted avg       0.32      0.23      0.21      7178\n",
      "\n"
     ]
    }
   ],
   "source": [
    "print(classification_report(fer_test_y, svm_pre))"
   ]
  },
  {
   "cell_type": "markdown",
   "id": "1b671a5b",
   "metadata": {},
   "source": [
    "# Using trained model on testing video dataset"
   ]
  },
  {
   "cell_type": "code",
   "execution_count": 133,
   "id": "b57cb76b",
   "metadata": {},
   "outputs": [],
   "source": [
    "import cv2\n",
    "from cv2.data import haarcascades\n",
    "import pandas as pd"
   ]
  },
  {
   "cell_type": "code",
   "execution_count": 134,
   "id": "6e45f3f1",
   "metadata": {},
   "outputs": [],
   "source": [
    "def mode(ls):\n",
    "    # dictionary to keep count of each value\n",
    "    counts = {}\n",
    "    # iterate through the list\n",
    "    for item in ls:\n",
    "        if item in counts:\n",
    "            counts[item] += 1\n",
    "        else:\n",
    "            counts[item] = 1\n",
    "    # get the keys with the max counts\n",
    "    return [key for key in counts.keys() if counts[key] == max(counts.values())]\n"
   ]
  },
  {
   "cell_type": "code",
   "execution_count": 155,
   "id": "3293a3e6",
   "metadata": {},
   "outputs": [],
   "source": [
    "facec = cv2.CascadeClassifier(R'C:\\Users\\Danyal\\AppData\\Local\\Programs\\Python\\Python39\\Lib\\site-packages\\cv2\\data\\haarcascade_frontalface_default.xml')\n",
    "video_n = []\n",
    "emo = []\n",
    "def video_here(v_name):\n",
    "    # model = svm_l()\n",
    "    data = pd.DataFrame()\n",
    "    data['frame_no.'] = ''\n",
    "    data['Time_Stamp'] = ''\n",
    "    data['Emotion_Predicted'] = ''\n",
    "    \n",
    "    v_name = v_name\n",
    "    Emotion_Predicted = []\n",
    "    \n",
    "\n",
    "    font = cv2.FONT_HERSHEY_SIMPLEX\n",
    "#     print('videos/'+v_name)\n",
    "    cap = cv2.VideoCapture(R'C:\\Users\\Danyal\\Desktop\\DCU\\practicum/videos/'+v_name)\n",
    "    frame_width = int(cap.get(3))\n",
    "    frame_height = int(cap.get(4))\n",
    "    frame_size = (frame_width,frame_height)\n",
    "    fps = 20\n",
    "    frame_no =1\n",
    "\n",
    "    output = cv2.VideoWriter(f'Video_ch', cv2.VideoWriter_fourcc(*'XVID'), 20, frame_size)\n",
    "    while(cap.isOpened()):\n",
    "        # vid_capture.read() methods returns a tuple, first element is a bool\n",
    "        # and the second is frame\n",
    "\n",
    "\n",
    "        ret, frame = cap.read()\n",
    "        if ret == True:\n",
    "            gray_fr = cv2.cvtColor(frame, cv2.COLOR_BGR2GRAY)\n",
    "            faces = facec.detectMultiScale(gray_fr, 1.3, 5)\n",
    "            for (x, y, w, h) in faces:\n",
    "                fc = gray_fr[y:y+h, x:x+w]\n",
    "                roi = cv2.resize(fc, (48, 48))\n",
    "                fea,im1 = hog(roi, orientations=9, pixels_per_cell=(8, 8), \n",
    "                        cells_per_block=(2, 2), visualize=True, multichannel=False)\n",
    "                pred = svm_l.predict(fea.reshape(1, -1))\n",
    "                Emotion_Predicted.append(pred[0])\n",
    "#                 print(pred)\n",
    "    #             cv2.putText(frame, pred, (x, y), font, 1, (255, 0, 0), 2)\n",
    "                cv2.rectangle(frame,(x,y),(x+w,y+h),(255,0,0),4) \n",
    "\n",
    "\n",
    "        # Write the frame to the output files\n",
    "            output.write(frame)\n",
    "\n",
    "        #Writing the frame and its identified emotion\n",
    "#             Emotion_Predicted.append(pred)\n",
    "#             data = data.append({'Frame_No.':frame_no,'Time_Stamp':cap.get(cv2.CAP_PROP_POS_MSEC),'Emotion_Predicted':pred},ignore_index= True)\n",
    "\n",
    "        else:\n",
    "    #             print(\"Stream disconnected\")\n",
    "            break\n",
    "        frame_no += 1\n",
    "#     print(Emotion_Predicted)\n",
    "    mod_emo = mode(Emotion_Predicted)\n",
    "    video_n.append(v_name)\n",
    "    emo.append(mod_emo[0])\n",
    "    cap.release()\n",
    "    output.release()\n"
   ]
  },
  {
   "cell_type": "code",
   "execution_count": 156,
   "id": "42053557",
   "metadata": {},
   "outputs": [],
   "source": [
    "for i in range(0,106):\n",
    "    if i == 10:\n",
    "        continue\n",
    "    video_here('Video ' + str(i) + '.mp4')\n"
   ]
  },
  {
   "cell_type": "code",
   "execution_count": 154,
   "id": "68f71a7d",
   "metadata": {},
   "outputs": [
    {
     "data": {
      "text/plain": [
       "['fear', 'disgust', 'surprise']"
      ]
     },
     "execution_count": 154,
     "metadata": {},
     "output_type": "execute_result"
    }
   ],
   "source": [
    "emo"
   ]
  },
  {
   "cell_type": "code",
   "execution_count": 157,
   "id": "ef058f37",
   "metadata": {},
   "outputs": [],
   "source": [
    "svm_hog_out = pd.DataFrame()"
   ]
  },
  {
   "cell_type": "code",
   "execution_count": 158,
   "id": "9726d34e",
   "metadata": {},
   "outputs": [],
   "source": [
    "svm_hog_out['emotion'] = emo\n",
    "svm_hog_out['Video_name'] = video_n"
   ]
  },
  {
   "cell_type": "code",
   "execution_count": 159,
   "id": "b2368ae5",
   "metadata": {},
   "outputs": [
    {
     "data": {
      "text/html": [
       "<div>\n",
       "<style scoped>\n",
       "    .dataframe tbody tr th:only-of-type {\n",
       "        vertical-align: middle;\n",
       "    }\n",
       "\n",
       "    .dataframe tbody tr th {\n",
       "        vertical-align: top;\n",
       "    }\n",
       "\n",
       "    .dataframe thead th {\n",
       "        text-align: right;\n",
       "    }\n",
       "</style>\n",
       "<table border=\"1\" class=\"dataframe\">\n",
       "  <thead>\n",
       "    <tr style=\"text-align: right;\">\n",
       "      <th></th>\n",
       "      <th>emotion</th>\n",
       "      <th>Video_name</th>\n",
       "    </tr>\n",
       "  </thead>\n",
       "  <tbody>\n",
       "    <tr>\n",
       "      <th>0</th>\n",
       "      <td>fear</td>\n",
       "      <td>Video 0.mp4</td>\n",
       "    </tr>\n",
       "    <tr>\n",
       "      <th>1</th>\n",
       "      <td>disgust</td>\n",
       "      <td>Video 1.mp4</td>\n",
       "    </tr>\n",
       "    <tr>\n",
       "      <th>2</th>\n",
       "      <td>surprise</td>\n",
       "      <td>Video 2.mp4</td>\n",
       "    </tr>\n",
       "    <tr>\n",
       "      <th>3</th>\n",
       "      <td>sad</td>\n",
       "      <td>Video 3.mp4</td>\n",
       "    </tr>\n",
       "    <tr>\n",
       "      <th>4</th>\n",
       "      <td>happy</td>\n",
       "      <td>Video 4.mp4</td>\n",
       "    </tr>\n",
       "  </tbody>\n",
       "</table>\n",
       "</div>"
      ],
      "text/plain": [
       "    emotion   Video_name\n",
       "0      fear  Video 0.mp4\n",
       "1   disgust  Video 1.mp4\n",
       "2  surprise  Video 2.mp4\n",
       "3       sad  Video 3.mp4\n",
       "4     happy  Video 4.mp4"
      ]
     },
     "execution_count": 159,
     "metadata": {},
     "output_type": "execute_result"
    }
   ],
   "source": [
    "svm_hog_out.head()"
   ]
  },
  {
   "cell_type": "code",
   "execution_count": 160,
   "id": "8cc106f3",
   "metadata": {},
   "outputs": [],
   "source": [
    "svm_hog_out.to_csv('hog_svm_out2.csv', index=False)"
   ]
  },
  {
   "cell_type": "code",
   "execution_count": 161,
   "id": "40d96e97",
   "metadata": {},
   "outputs": [
    {
     "data": {
      "text/html": [
       "<div>\n",
       "<style scoped>\n",
       "    .dataframe tbody tr th:only-of-type {\n",
       "        vertical-align: middle;\n",
       "    }\n",
       "\n",
       "    .dataframe tbody tr th {\n",
       "        vertical-align: top;\n",
       "    }\n",
       "\n",
       "    .dataframe thead th {\n",
       "        text-align: right;\n",
       "    }\n",
       "</style>\n",
       "<table border=\"1\" class=\"dataframe\">\n",
       "  <thead>\n",
       "    <tr style=\"text-align: right;\">\n",
       "      <th></th>\n",
       "      <th>emotion</th>\n",
       "      <th>Video_name</th>\n",
       "    </tr>\n",
       "  </thead>\n",
       "  <tbody>\n",
       "    <tr>\n",
       "      <th>0</th>\n",
       "      <td>fear</td>\n",
       "      <td>Video 0.mp4</td>\n",
       "    </tr>\n",
       "    <tr>\n",
       "      <th>1</th>\n",
       "      <td>disgust</td>\n",
       "      <td>Video 1.mp4</td>\n",
       "    </tr>\n",
       "    <tr>\n",
       "      <th>2</th>\n",
       "      <td>surprise</td>\n",
       "      <td>Video 2.mp4</td>\n",
       "    </tr>\n",
       "    <tr>\n",
       "      <th>3</th>\n",
       "      <td>sad</td>\n",
       "      <td>Video 3.mp4</td>\n",
       "    </tr>\n",
       "    <tr>\n",
       "      <th>4</th>\n",
       "      <td>happy</td>\n",
       "      <td>Video 4.mp4</td>\n",
       "    </tr>\n",
       "  </tbody>\n",
       "</table>\n",
       "</div>"
      ],
      "text/plain": [
       "    emotion   Video_name\n",
       "0      fear  Video 0.mp4\n",
       "1   disgust  Video 1.mp4\n",
       "2  surprise  Video 2.mp4\n",
       "3       sad  Video 3.mp4\n",
       "4     happy  Video 4.mp4"
      ]
     },
     "execution_count": 161,
     "metadata": {},
     "output_type": "execute_result"
    }
   ],
   "source": [
    "svm_hog_out.head()"
   ]
  },
  {
   "cell_type": "code",
   "execution_count": 162,
   "id": "a5d0eba1",
   "metadata": {},
   "outputs": [],
   "source": [
    "gt = pd.read_csv('GroundTruthEmotions.csv')"
   ]
  },
  {
   "cell_type": "code",
   "execution_count": 168,
   "id": "5b80d3c9",
   "metadata": {},
   "outputs": [],
   "source": [
    "for i in range(0, len(gt)):\n",
    "    gt['Emotion_Identified'][i] =  gt['Emotion_Identified'][i].lower()"
   ]
  },
  {
   "cell_type": "code",
   "execution_count": 169,
   "id": "4069e8f0",
   "metadata": {},
   "outputs": [
    {
     "name": "stdout",
     "output_type": "stream",
     "text": [
      "              precision    recall  f1-score   support\n",
      "\n",
      "       angry       0.29      0.10      0.15        20\n",
      "     disgust       0.06      0.14      0.08         7\n",
      "        fear       0.27      0.60      0.37         5\n",
      "       happy       0.82      0.35      0.49        26\n",
      "     neutral       0.00      0.00      0.00        23\n",
      "         sad       0.43      0.19      0.26        16\n",
      "    surprise       0.08      0.50      0.13         8\n",
      "\n",
      "    accuracy                           0.21       105\n",
      "   macro avg       0.28      0.27      0.21       105\n",
      "weighted avg       0.35      0.21      0.22       105\n",
      "\n"
     ]
    },
    {
     "name": "stderr",
     "output_type": "stream",
     "text": [
      "C:\\Users\\Danyal\\anaconda3\\lib\\site-packages\\sklearn\\metrics\\_classification.py:1245: UndefinedMetricWarning: Precision and F-score are ill-defined and being set to 0.0 in labels with no predicted samples. Use `zero_division` parameter to control this behavior.\n",
      "  _warn_prf(average, modifier, msg_start, len(result))\n",
      "C:\\Users\\Danyal\\anaconda3\\lib\\site-packages\\sklearn\\metrics\\_classification.py:1245: UndefinedMetricWarning: Precision and F-score are ill-defined and being set to 0.0 in labels with no predicted samples. Use `zero_division` parameter to control this behavior.\n",
      "  _warn_prf(average, modifier, msg_start, len(result))\n",
      "C:\\Users\\Danyal\\anaconda3\\lib\\site-packages\\sklearn\\metrics\\_classification.py:1245: UndefinedMetricWarning: Precision and F-score are ill-defined and being set to 0.0 in labels with no predicted samples. Use `zero_division` parameter to control this behavior.\n",
      "  _warn_prf(average, modifier, msg_start, len(result))\n"
     ]
    }
   ],
   "source": [
    "print(classification_report(gt['Emotion_Identified'],svm_hog_out['emotion']))"
   ]
  },
  {
   "cell_type": "code",
   "execution_count": 37,
   "id": "9d255b77",
   "metadata": {},
   "outputs": [],
   "source": [
    "from sklearn.metrics import confusion_matrix\n",
    "import seaborn as sns"
   ]
  },
  {
   "cell_type": "code",
   "execution_count": 186,
   "id": "27bf137d",
   "metadata": {},
   "outputs": [],
   "source": [
    "cm = confusion_matrix(gt['Emotion_Identified'],svm_hog_out['emotion'])"
   ]
  },
  {
   "cell_type": "code",
   "execution_count": 187,
   "id": "26979c02",
   "metadata": {},
   "outputs": [
    {
     "data": {
      "image/png": "[encoded data removed]",
      "text/plain": [
       "<Figure size 360x288 with 2 Axes>"
      ]
     },
     "metadata": {
      "needs_background": "light"
     },
     "output_type": "display_data"
    }
   ],
   "source": [
    "## Confusion Matirx                                                                                                        \n",
    "cm_df = pd.DataFrame(cm, index = ['ANGRY','DISGUST','FEAR','HAPPY','NEUTRAL','SAD','SURPRISE'], columns = ['ANGRY','DISGUST','FEAR','HAPPY','NEUTRAL','SAD','SURPRISE']) \n",
    "#Plotting the confusion matrix\n",
    "plt.figure(figsize=(5,4))\n",
    "sns.heatmap(cm_df, annot=True)\n",
    "plt.title('')\n",
    "plt.ylabel('Actal Values')\n",
    "plt.xlabel('Predicted Values')\n",
    "plt.show()"
   ]
  },
  {
   "cell_type": "code",
   "execution_count": null,
   "id": "0dd6de39",
   "metadata": {},
   "outputs": [],
   "source": []
  },
  {
   "cell_type": "markdown",
   "id": "8de8f064",
   "metadata": {},
   "source": [
    "# Testing on JAFEE database (Using the trained model)"
   ]
  },
  {
   "cell_type": "code",
   "execution_count": 237,
   "id": "dd8e93b3",
   "metadata": {},
   "outputs": [],
   "source": [
    "j_im_df = pd.DataFrame()\n",
    "j_im_df['image'] = ''\n",
    "j_im_df['lable'] = ''"
   ]
  },
  {
   "cell_type": "code",
   "execution_count": 238,
   "id": "11d74f1f",
   "metadata": {},
   "outputs": [],
   "source": [
    "for i in emotions:\n",
    "    for j in os.listdir('jaffedbase/' + i):\n",
    "        j_im_df= j_im_df.append({'image': j, 'lable': i},ignore_index=True)"
   ]
  },
  {
   "cell_type": "code",
   "execution_count": 239,
   "id": "76b5124f",
   "metadata": {},
   "outputs": [],
   "source": [
    "j_im_df = j_im_df.sample(frac=1)"
   ]
  },
  {
   "cell_type": "code",
   "execution_count": 240,
   "id": "5ec90b32",
   "metadata": {},
   "outputs": [],
   "source": [
    "j_im_df = j_im_df.reset_index()"
   ]
  },
  {
   "cell_type": "code",
   "execution_count": 241,
   "id": "e68b79c3",
   "metadata": {},
   "outputs": [
    {
     "data": {
      "text/html": [
       "<div>\n",
       "<style scoped>\n",
       "    .dataframe tbody tr th:only-of-type {\n",
       "        vertical-align: middle;\n",
       "    }\n",
       "\n",
       "    .dataframe tbody tr th {\n",
       "        vertical-align: top;\n",
       "    }\n",
       "\n",
       "    .dataframe thead th {\n",
       "        text-align: right;\n",
       "    }\n",
       "</style>\n",
       "<table border=\"1\" class=\"dataframe\">\n",
       "  <thead>\n",
       "    <tr style=\"text-align: right;\">\n",
       "      <th></th>\n",
       "      <th>index</th>\n",
       "      <th>image</th>\n",
       "      <th>lable</th>\n",
       "    </tr>\n",
       "  </thead>\n",
       "  <tbody>\n",
       "    <tr>\n",
       "      <th>0</th>\n",
       "      <td>218</td>\n",
       "      <td>YM.SU2.59.tiff</td>\n",
       "      <td>surprise</td>\n",
       "    </tr>\n",
       "    <tr>\n",
       "      <th>1</th>\n",
       "      <td>186</td>\n",
       "      <td>YM.SA1.55.tiff</td>\n",
       "      <td>sad</td>\n",
       "    </tr>\n",
       "    <tr>\n",
       "      <th>2</th>\n",
       "      <td>112</td>\n",
       "      <td>NA.HA2.203.tiff</td>\n",
       "      <td>happy</td>\n",
       "    </tr>\n",
       "    <tr>\n",
       "      <th>3</th>\n",
       "      <td>164</td>\n",
       "      <td>KM.SA1.9.tiff</td>\n",
       "      <td>sad</td>\n",
       "    </tr>\n",
       "    <tr>\n",
       "      <th>4</th>\n",
       "      <td>19</td>\n",
       "      <td>NM.AN1.104.tiff</td>\n",
       "      <td>angry</td>\n",
       "    </tr>\n",
       "  </tbody>\n",
       "</table>\n",
       "</div>"
      ],
      "text/plain": [
       "   index            image     lable\n",
       "0    218   YM.SU2.59.tiff  surprise\n",
       "1    186   YM.SA1.55.tiff       sad\n",
       "2    112  NA.HA2.203.tiff     happy\n",
       "3    164    KM.SA1.9.tiff       sad\n",
       "4     19  NM.AN1.104.tiff     angry"
      ]
     },
     "execution_count": 241,
     "metadata": {},
     "output_type": "execute_result"
    }
   ],
   "source": [
    "j_im_df.head()"
   ]
  },
  {
   "cell_type": "code",
   "execution_count": 269,
   "id": "5247fa03",
   "metadata": {},
   "outputs": [],
   "source": [
    "img = imread('jaffedbase/'+ j_im_df['lable'][1] + '/' + j_im_df['image'][1])\n",
    "# img = resize(img, (48, 48))\n",
    "f, hog_image = hog(img, orientations=9, pixels_per_cell=(8, 8), \n",
    "                    cells_per_block=(2, 2), visualize=True, multichannel=False)"
   ]
  },
  {
   "cell_type": "code",
   "execution_count": 271,
   "id": "ecc1b02a",
   "metadata": {},
   "outputs": [
    {
     "data": {
      "text/plain": [
       "34596"
      ]
     },
     "execution_count": 271,
     "metadata": {},
     "output_type": "execute_result"
    },
    {
     "data": {
      "image/png": "[encoded data removed]",
      "text/plain": [
       "<Figure size 432x288 with 2 Axes>"
      ]
     },
     "metadata": {
      "needs_background": "light"
     },
     "output_type": "display_data"
    }
   ],
   "source": [
    "imshow(hog_image)\n",
    "# imshow(img)"
   ]
  },
  {
   "cell_type": "code",
   "execution_count": 262,
   "id": "c15479fc",
   "metadata": {},
   "outputs": [],
   "source": [
    "j_t_f = []\n",
    "j_t_l = []\n",
    "# t_f.append(f)\n",
    "# t_f.append(f2)\n",
    "# t_l.append(im_df['lable'][1])\n",
    "# t_l.append('sad')"
   ]
  },
  {
   "cell_type": "code",
   "execution_count": 253,
   "id": "83736d6c",
   "metadata": {},
   "outputs": [
    {
     "name": "stdout",
     "output_type": "stream",
     "text": [
      "NA.DI1.214.tiff\n"
     ]
    }
   ],
   "source": [
    "print(j_im_df['image'][53])"
   ]
  },
  {
   "cell_type": "code",
   "execution_count": 254,
   "id": "e6db8922",
   "metadata": {},
   "outputs": [
    {
     "data": {
      "text/plain": [
       "220"
      ]
     },
     "execution_count": 254,
     "metadata": {},
     "output_type": "execute_result"
    }
   ],
   "source": [
    "len(j_im_df)"
   ]
  },
  {
   "cell_type": "code",
   "execution_count": 255,
   "id": "02744f81",
   "metadata": {},
   "outputs": [],
   "source": [
    "for i in range(0, len(j_im_df)):\n",
    "    try:\n",
    "        image = imread('jaffedbase/'+ j_im_df['lable'][i] + '/' + j_im_df['image'][i])\n",
    "        image = resize(image, (48,48))\n",
    "        fd,img = hog(image, orientations=9, pixels_per_cell=(8, 8), cells_per_block=(2, 2), visualize=True, multichannel=False)\n",
    "        j_t_f.append(fd)\n",
    "        j_t_l.append(j_im_df['lable'][i])\n",
    "    except:\n",
    "        continue"
   ]
  },
  {
   "cell_type": "code",
   "execution_count": 256,
   "id": "cca93546",
   "metadata": {},
   "outputs": [
    {
     "data": {
      "text/plain": [
       "900"
      ]
     },
     "execution_count": 256,
     "metadata": {},
     "output_type": "execute_result"
    }
   ],
   "source": [
    "len(j_t_f[0])"
   ]
  },
  {
   "cell_type": "code",
   "execution_count": null,
   "id": "f1675c40",
   "metadata": {},
   "outputs": [],
   "source": []
  },
  {
   "cell_type": "code",
   "execution_count": 257,
   "id": "4a6aebdd",
   "metadata": {},
   "outputs": [],
   "source": [
    "j_pre = svm_l.predict(j_t_f)"
   ]
  },
  {
   "cell_type": "code",
   "execution_count": 258,
   "id": "e0550782",
   "metadata": {},
   "outputs": [
    {
     "name": "stdout",
     "output_type": "stream",
     "text": [
      "              precision    recall  f1-score   support\n",
      "\n",
      "       angry       0.00      0.00      0.00        30\n",
      "     disgust       0.00      0.00      0.00        29\n",
      "        fear       0.50      0.03      0.06        32\n",
      "       happy       0.00      0.00      0.00        31\n",
      "     neutral       0.00      0.00      0.00        30\n",
      "         sad       0.00      0.00      0.00        31\n",
      "    surprise       0.14      1.00      0.25        30\n",
      "\n",
      "    accuracy                           0.15       213\n",
      "   macro avg       0.09      0.15      0.04       213\n",
      "weighted avg       0.10      0.15      0.04       213\n",
      "\n"
     ]
    },
    {
     "name": "stderr",
     "output_type": "stream",
     "text": [
      "C:\\Users\\Danyal\\anaconda3\\lib\\site-packages\\sklearn\\metrics\\_classification.py:1245: UndefinedMetricWarning: Precision and F-score are ill-defined and being set to 0.0 in labels with no predicted samples. Use `zero_division` parameter to control this behavior.\n",
      "  _warn_prf(average, modifier, msg_start, len(result))\n",
      "C:\\Users\\Danyal\\anaconda3\\lib\\site-packages\\sklearn\\metrics\\_classification.py:1245: UndefinedMetricWarning: Precision and F-score are ill-defined and being set to 0.0 in labels with no predicted samples. Use `zero_division` parameter to control this behavior.\n",
      "  _warn_prf(average, modifier, msg_start, len(result))\n",
      "C:\\Users\\Danyal\\anaconda3\\lib\\site-packages\\sklearn\\metrics\\_classification.py:1245: UndefinedMetricWarning: Precision and F-score are ill-defined and being set to 0.0 in labels with no predicted samples. Use `zero_division` parameter to control this behavior.\n",
      "  _warn_prf(average, modifier, msg_start, len(result))\n"
     ]
    }
   ],
   "source": [
    "print(classification_report(j_t_l,j_pre))"
   ]
  },
  {
   "cell_type": "code",
   "execution_count": 229,
   "id": "83ade26a",
   "metadata": {},
   "outputs": [],
   "source": [
    "cmj = confusion_matrix(j_t_l,j_pre)"
   ]
  },
  {
   "cell_type": "code",
   "execution_count": 230,
   "id": "cbf20fdb",
   "metadata": {},
   "outputs": [
    {
     "data": {
      "image/png": "[encoded data removed]",
      "text/plain": [
       "<Figure size 360x288 with 2 Axes>"
      ]
     },
     "metadata": {
      "needs_background": "light"
     },
     "output_type": "display_data"
    }
   ],
   "source": [
    "## Confusion Matirx                                                                                                        \n",
    "cm_df_j = pd.DataFrame(cmj, index = ['ANGRY','DISGUST','FEAR','HAPPY','NEUTRAL','SAD','SURPRISE'], columns = ['ANGRY','DISGUST','FEAR','HAPPY','NEUTRAL','SAD','SURPRISE']) \n",
    "#Plotting the confusion matrix\n",
    "plt.figure(figsize=(5,4))\n",
    "sns.heatmap(cm_df_j, annot=True)\n",
    "plt.title('')\n",
    "plt.ylabel('Actal Values')\n",
    "plt.xlabel('Predicted Values')\n",
    "plt.show()"
   ]
  },
  {
   "cell_type": "code",
   "execution_count": 263,
   "id": "557fbb3f",
   "metadata": {},
   "outputs": [],
   "source": [
    "for i in range(0, len(j_im_df)):\n",
    "    try:\n",
    "        image = imread('jaffedbase/'+ j_im_df['lable'][i] + '/' + j_im_df['image'][i])\n",
    "#         image = resize(image, (48,48))\n",
    "        fd,img = hog(image, orientations=9, pixels_per_cell=(8, 8), cells_per_block=(2, 2), visualize=True, multichannel=False)\n",
    "        j_t_f.append(fd)\n",
    "        j_t_l.append(j_im_df['lable'][i])\n",
    "    except:\n",
    "        continue"
   ]
  },
  {
   "cell_type": "markdown",
   "id": "e638c42a",
   "metadata": {},
   "source": [
    "# Training on JAFEE"
   ]
  },
  {
   "cell_type": "code",
   "execution_count": 264,
   "id": "4b57cde7",
   "metadata": {},
   "outputs": [],
   "source": [
    "train_f_j = j_t_f[0:160]\n",
    "train_l_j = j_t_l[0:160]\n",
    "test_f_j = j_t_f[160:]\n",
    "test_l_j = j_t_l[160:]"
   ]
  },
  {
   "cell_type": "code",
   "execution_count": 265,
   "id": "96840748",
   "metadata": {},
   "outputs": [],
   "source": [
    "from sklearn import svm\n",
    "svm_j = svm.SVC()"
   ]
  },
  {
   "cell_type": "code",
   "execution_count": 266,
   "id": "ad0ebd81",
   "metadata": {},
   "outputs": [
    {
     "data": {
      "text/plain": [
       "SVC()"
      ]
     },
     "execution_count": 266,
     "metadata": {},
     "output_type": "execute_result"
    }
   ],
   "source": [
    "svm_j.fit(train_f_j,train_l_j)"
   ]
  },
  {
   "cell_type": "code",
   "execution_count": 267,
   "id": "0358a9e3",
   "metadata": {},
   "outputs": [],
   "source": [
    "jafee_pre = svm_j.predict(test_f_j)"
   ]
  },
  {
   "cell_type": "code",
   "execution_count": 268,
   "id": "325009f6",
   "metadata": {},
   "outputs": [
    {
     "name": "stdout",
     "output_type": "stream",
     "text": [
      "              precision    recall  f1-score   support\n",
      "\n",
      "       angry       0.20      0.33      0.25         6\n",
      "     disgust       1.00      0.43      0.60         7\n",
      "        fear       0.75      0.25      0.38        12\n",
      "       happy       0.67      0.25      0.36         8\n",
      "     neutral       0.00      0.00      0.00        10\n",
      "         sad       0.11      0.29      0.16         7\n",
      "    surprise       0.20      1.00      0.33         3\n",
      "\n",
      "    accuracy                           0.28        53\n",
      "   macro avg       0.42      0.36      0.30        53\n",
      "weighted avg       0.45      0.28      0.29        53\n",
      "\n"
     ]
    },
    {
     "name": "stderr",
     "output_type": "stream",
     "text": [
      "C:\\Users\\Danyal\\anaconda3\\lib\\site-packages\\sklearn\\metrics\\_classification.py:1245: UndefinedMetricWarning: Precision and F-score are ill-defined and being set to 0.0 in labels with no predicted samples. Use `zero_division` parameter to control this behavior.\n",
      "  _warn_prf(average, modifier, msg_start, len(result))\n",
      "C:\\Users\\Danyal\\anaconda3\\lib\\site-packages\\sklearn\\metrics\\_classification.py:1245: UndefinedMetricWarning: Precision and F-score are ill-defined and being set to 0.0 in labels with no predicted samples. Use `zero_division` parameter to control this behavior.\n",
      "  _warn_prf(average, modifier, msg_start, len(result))\n",
      "C:\\Users\\Danyal\\anaconda3\\lib\\site-packages\\sklearn\\metrics\\_classification.py:1245: UndefinedMetricWarning: Precision and F-score are ill-defined and being set to 0.0 in labels with no predicted samples. Use `zero_division` parameter to control this behavior.\n",
      "  _warn_prf(average, modifier, msg_start, len(result))\n"
     ]
    }
   ],
   "source": [
    "print(classification_report(test_l_j, jafee_pre))"
   ]
  },
  {
   "cell_type": "code",
   "execution_count": null,
   "id": "6742ca85",
   "metadata": {},
   "outputs": [],
   "source": []
  }
 ],
 "metadata": {
  "kernelspec": {
   "display_name": "Python 3",
   "language": "python",
   "name": "python3"
  },
  "language_info": {
   "codemirror_mode": {
    "name": "ipython",
    "version": 3
   },
   "file_extension": ".py",
   "mimetype": "text/x-python",
   "name": "python",
   "nbconvert_exporter": "python",
   "pygments_lexer": "ipython3",
   "version": "3.8.8"
  }
 },
 "nbformat": 4,
 "nbformat_minor": 5
}
